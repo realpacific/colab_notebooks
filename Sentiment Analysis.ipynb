{
 "cells": [
  {
   "cell_type": "markdown",
   "metadata": {
    "deletable": false,
    "editable": false,
    "nbgrader": {
     "checksum": "fc63a8e636dda9ab384fefe1a0ff5b66",
     "grade": false,
     "grade_id": "cell-ee49c731d390b6ce",
     "locked": true,
     "schema_version": 1,
     "solution": false
    }
   },
   "source": [
    "## Emotion Detection and Recognition\n",
    "Emotion Detection and Recognition from text is closely related to Sentiment Analysis which aims to detect and recognize various types of feelings through the expression of texts, such as anger, disgust, fear, happiness, sadness, and surprise unlike sentiment analysis which detects positive, neutral, or negative feelings from text.\n"
   ]
  },
  {
   "cell_type": "markdown",
   "metadata": {
    "deletable": false,
    "editable": false,
    "nbgrader": {
     "checksum": "4ab2e3aa4107ccc8d02ae28e8b625c26",
     "grade": false,
     "grade_id": "cell-8eae96664a2dc529",
     "locked": true,
     "schema_version": 1,
     "solution": false
    }
   },
   "source": [
    "## Data Preprocessing:\n",
    "\n",
    "- Read the dataset ISEAR.csv which is in the current path.\n",
    "- Visualise and Clean the dataset\n",
    "- Perform any preprocessing that may be required\n",
    "\n",
    "The Emotions in the dataset should be: 'joy', 'fear', 'anger', 'sadness', 'disgust', 'shame' and 'guilt'."
   ]
  },
  {
   "cell_type": "code",
   "execution_count": 180,
   "metadata": {
    "deletable": false,
    "nbgrader": {
     "checksum": "5d1389d349ab793aaeeee3630ad2dada",
     "grade": false,
     "grade_id": "cell-ee4c535e719b9073",
     "locked": false,
     "schema_version": 1,
     "solution": true
    }
   },
   "outputs": [],
   "source": [
    "import pandas as pd\n",
    "import numpy as np\n",
    "import matplotlib.pyplot as plt\n",
    "%matplotlib inline"
   ]
  },
  {
   "cell_type": "code",
   "execution_count": 181,
   "metadata": {
    "deletable": false,
    "nbgrader": {
     "checksum": "6e6f06372f366dcd5f29b9b76d2380a3",
     "grade": false,
     "grade_id": "cell-6ba89ba3bf85a0f3",
     "locked": false,
     "schema_version": 1,
     "solution": true
    },
    "scrolled": true
   },
   "outputs": [
    {
     "data": {
      "text/html": [
       "<div>\n",
       "<style scoped>\n",
       "    .dataframe tbody tr th:only-of-type {\n",
       "        vertical-align: middle;\n",
       "    }\n",
       "\n",
       "    .dataframe tbody tr th {\n",
       "        vertical-align: top;\n",
       "    }\n",
       "\n",
       "    .dataframe thead th {\n",
       "        text-align: right;\n",
       "    }\n",
       "</style>\n",
       "<table border=\"1\" class=\"dataframe\">\n",
       "  <thead>\n",
       "    <tr style=\"text-align: right;\">\n",
       "      <th></th>\n",
       "      <th>target</th>\n",
       "      <th>data</th>\n",
       "    </tr>\n",
       "    <tr>\n",
       "      <th>index</th>\n",
       "      <th></th>\n",
       "      <th></th>\n",
       "    </tr>\n",
       "  </thead>\n",
       "  <tbody>\n",
       "    <tr>\n",
       "      <th>0</th>\n",
       "      <td>joy</td>\n",
       "      <td>On days when I feel close to my partner and ot...</td>\n",
       "    </tr>\n",
       "    <tr>\n",
       "      <th>1</th>\n",
       "      <td>fear</td>\n",
       "      <td>Every time I imagine that someone I love or I ...</td>\n",
       "    </tr>\n",
       "    <tr>\n",
       "      <th>2</th>\n",
       "      <td>anger</td>\n",
       "      <td>When I had been obviously unjustly treated and...</td>\n",
       "    </tr>\n",
       "    <tr>\n",
       "      <th>3</th>\n",
       "      <td>sadness</td>\n",
       "      <td>When I think about the short time that we live...</td>\n",
       "    </tr>\n",
       "    <tr>\n",
       "      <th>4</th>\n",
       "      <td>disgust</td>\n",
       "      <td>At a gathering I found myself involuntarily si...</td>\n",
       "    </tr>\n",
       "  </tbody>\n",
       "</table>\n",
       "</div>"
      ],
      "text/plain": [
       "        target                                               data\n",
       "index                                                            \n",
       "0          joy  On days when I feel close to my partner and ot...\n",
       "1         fear  Every time I imagine that someone I love or I ...\n",
       "2        anger  When I had been obviously unjustly treated and...\n",
       "3      sadness  When I think about the short time that we live...\n",
       "4      disgust  At a gathering I found myself involuntarily si..."
      ]
     },
     "execution_count": 181,
     "metadata": {},
     "output_type": "execute_result"
    }
   ],
   "source": [
    "columns = ['index', 'target', 'data']\n",
    "df = pd.read_csv('ISEAR.csv', names=columns, index_col='index')\n",
    "df.head()"
   ]
  },
  {
   "cell_type": "code",
   "execution_count": 182,
   "metadata": {
    "scrolled": true
   },
   "outputs": [
    {
     "data": {
      "text/plain": [
       "joy        1082\n",
       "sadness    1074\n",
       "anger      1069\n",
       "fear       1063\n",
       "disgust    1059\n",
       "shame      1059\n",
       "guilt      1040\n",
       "Name: target, dtype: int64"
      ]
     },
     "execution_count": 182,
     "metadata": {},
     "output_type": "execute_result"
    }
   ],
   "source": [
    "df['target'].value_counts()"
   ]
  },
  {
   "cell_type": "code",
   "execution_count": 183,
   "metadata": {
    "scrolled": true
   },
   "outputs": [
    {
     "name": "stdout",
     "output_type": "stream",
     "text": [
      "<class 'pandas.core.frame.DataFrame'>\n",
      "Int64Index: 7446 entries, 0 to 7445\n",
      "Data columns (total 2 columns):\n",
      "target    7446 non-null object\n",
      "data      7446 non-null object\n",
      "dtypes: object(2)\n",
      "memory usage: 174.5+ KB\n"
     ]
    }
   ],
   "source": [
    "df.info()"
   ]
  },
  {
   "cell_type": "code",
   "execution_count": 184,
   "metadata": {
    "scrolled": true
   },
   "outputs": [
    {
     "data": {
      "text/html": [
       "<div>\n",
       "<style scoped>\n",
       "    .dataframe tbody tr th:only-of-type {\n",
       "        vertical-align: middle;\n",
       "    }\n",
       "\n",
       "    .dataframe tbody tr th {\n",
       "        vertical-align: top;\n",
       "    }\n",
       "\n",
       "    .dataframe thead th {\n",
       "        text-align: right;\n",
       "    }\n",
       "</style>\n",
       "<table border=\"1\" class=\"dataframe\">\n",
       "  <thead>\n",
       "    <tr style=\"text-align: right;\">\n",
       "      <th></th>\n",
       "      <th>target</th>\n",
       "      <th>data</th>\n",
       "    </tr>\n",
       "    <tr>\n",
       "      <th>index</th>\n",
       "      <th></th>\n",
       "      <th></th>\n",
       "    </tr>\n",
       "  </thead>\n",
       "  <tbody>\n",
       "    <tr>\n",
       "      <th>0</th>\n",
       "      <td>joy</td>\n",
       "      <td>On days when I feel close to my partner and ot...</td>\n",
       "    </tr>\n",
       "    <tr>\n",
       "      <th>1</th>\n",
       "      <td>fear</td>\n",
       "      <td>Every time I imagine that someone I love or I ...</td>\n",
       "    </tr>\n",
       "    <tr>\n",
       "      <th>2</th>\n",
       "      <td>anger</td>\n",
       "      <td>When I had been obviously unjustly treated and...</td>\n",
       "    </tr>\n",
       "    <tr>\n",
       "      <th>3</th>\n",
       "      <td>sadness</td>\n",
       "      <td>When I think about the short time that we live...</td>\n",
       "    </tr>\n",
       "    <tr>\n",
       "      <th>4</th>\n",
       "      <td>disgust</td>\n",
       "      <td>At a gathering I found myself involuntarily si...</td>\n",
       "    </tr>\n",
       "  </tbody>\n",
       "</table>\n",
       "</div>"
      ],
      "text/plain": [
       "        target                                               data\n",
       "index                                                            \n",
       "0          joy  On days when I feel close to my partner and ot...\n",
       "1         fear  Every time I imagine that someone I love or I ...\n",
       "2        anger  When I had been obviously unjustly treated and...\n",
       "3      sadness  When I think about the short time that we live...\n",
       "4      disgust  At a gathering I found myself involuntarily si..."
      ]
     },
     "execution_count": 184,
     "metadata": {},
     "output_type": "execute_result"
    }
   ],
   "source": [
    "# target = pd.get_dummies(df['target'], drop_first=True)\n",
    "# target.head()\n",
    "df.head()"
   ]
  },
  {
   "cell_type": "code",
   "execution_count": 185,
   "metadata": {},
   "outputs": [],
   "source": [
    "def print_row(n):\n",
    "    print(df['data'][n], df.target[n], sep=' = ')\n",
    "    print('\\n')"
   ]
  },
  {
   "cell_type": "code",
   "execution_count": 186,
   "metadata": {},
   "outputs": [],
   "source": [
    "def get(n):\n",
    "    return df['data'][n]"
   ]
  },
  {
   "cell_type": "code",
   "execution_count": 187,
   "metadata": {},
   "outputs": [
    {
     "name": "stdout",
     "output_type": "stream",
     "text": [
      "When I recently thought about the hard work it takes to study, and   \n",
      "how one wants to try something else.  When I read a theoretical  \n",
      "book in English that I did not understand. = sadness\n",
      "\n",
      "\n",
      "When I found a bristle in the liver paste tube. = disgust\n",
      "\n",
      "\n",
      "When I was tired and unmotivated, I shouted at my girlfriend and  \n",
      "and brought up negative sides of her character which are actually  \n",
      "not so important. = shame\n",
      "\n",
      "\n",
      "When I think that I do not study enough.  After the weekend I  \n",
      "think that I should have been able to have accomplished  \n",
      "something during that time. = guilt\n",
      "\n",
      "\n",
      "When I pass an examination which I did not think I did well. = joy\n",
      "\n",
      "\n"
     ]
    }
   ],
   "source": [
    "for i in range(10,15):\n",
    "    print_row(i)"
   ]
  },
  {
   "cell_type": "code",
   "execution_count": 188,
   "metadata": {},
   "outputs": [],
   "source": [
    "import string\n"
   ]
  },
  {
   "cell_type": "code",
   "execution_count": 189,
   "metadata": {},
   "outputs": [
    {
     "name": "stdout",
     "output_type": "stream",
     "text": [
      "['i', 'me', 'my', 'myself', 'we', 'our', 'ours', 'ourselves', 'you', 'your', 'yours', 'yourself', 'yourselves', 'he', 'him', 'his', 'himself', 'she', 'her', 'hers', 'herself', 'it', 'its', 'itself', 'they', 'them', 'their', 'theirs', 'themselves', 'what', 'which', 'who', 'whom', 'this', 'that', 'these', 'those', 'am', 'is', 'are', 'was', 'were', 'be', 'been', 'being', 'have', 'has', 'had', 'having', 'do', 'does', 'did', 'doing', 'a', 'an', 'the', 'and', 'but', 'if', 'or', 'because', 'as', 'until', 'while', 'of', 'at', 'by', 'for', 'with', 'about', 'against', 'between', 'into', 'through', 'during', 'before', 'after', 'above', 'below', 'to', 'from', 'up', 'down', 'in', 'out', 'on', 'off', 'over', 'under', 'again', 'further', 'then', 'once', 'here', 'there', 'when', 'where', 'why', 'how', 'all', 'any', 'both', 'each', 'few', 'more', 'most', 'other', 'some', 'such', 'no', 'nor', 'not', 'only', 'own', 'same', 'so', 'than', 'too', 'very', 's', 't', 'can', 'will', 'just', 'don', 'should', 'now']\n"
     ]
    }
   ],
   "source": [
    "# https://gist.github.com/sebleier/554280\n",
    "stopwords = \"\"\"i\n",
    "me\n",
    "my\n",
    "myself\n",
    "we\n",
    "our\n",
    "ours\n",
    "ourselves\n",
    "you\n",
    "your\n",
    "yours\n",
    "yourself\n",
    "yourselves\n",
    "he\n",
    "him\n",
    "his\n",
    "himself\n",
    "she\n",
    "her\n",
    "hers\n",
    "herself\n",
    "it\n",
    "its\n",
    "itself\n",
    "they\n",
    "them\n",
    "their\n",
    "theirs\n",
    "themselves\n",
    "what\n",
    "which\n",
    "who\n",
    "whom\n",
    "this\n",
    "that\n",
    "these\n",
    "those\n",
    "am\n",
    "is\n",
    "are\n",
    "was\n",
    "were\n",
    "be\n",
    "been\n",
    "being\n",
    "have\n",
    "has\n",
    "had\n",
    "having\n",
    "do\n",
    "does\n",
    "did\n",
    "doing\n",
    "a\n",
    "an\n",
    "the\n",
    "and\n",
    "but\n",
    "if\n",
    "or\n",
    "because\n",
    "as\n",
    "until\n",
    "while\n",
    "of\n",
    "at\n",
    "by\n",
    "for\n",
    "with\n",
    "about\n",
    "against\n",
    "between\n",
    "into\n",
    "through\n",
    "during\n",
    "before\n",
    "after\n",
    "above\n",
    "below\n",
    "to\n",
    "from\n",
    "up\n",
    "down\n",
    "in\n",
    "out\n",
    "on\n",
    "off\n",
    "over\n",
    "under\n",
    "again\n",
    "further\n",
    "then\n",
    "once\n",
    "here\n",
    "there\n",
    "when\n",
    "where\n",
    "why\n",
    "how\n",
    "all\n",
    "any\n",
    "both\n",
    "each\n",
    "few\n",
    "more\n",
    "most\n",
    "other\n",
    "some\n",
    "such\n",
    "no\n",
    "nor\n",
    "not\n",
    "only\n",
    "own\n",
    "same\n",
    "so\n",
    "than\n",
    "too\n",
    "very\n",
    "s\n",
    "t\n",
    "can\n",
    "will\n",
    "just\n",
    "don\n",
    "should\n",
    "now\"\"\"\n",
    "\n",
    "stopwords = stopwords.split('\\n')\n",
    "print(stopwords)"
   ]
  },
  {
   "cell_type": "code",
   "execution_count": 190,
   "metadata": {},
   "outputs": [],
   "source": [
    "def hasNumbers(inputString):\n",
    "    return any(char.isdigit() for char in inputString)"
   ]
  },
  {
   "cell_type": "code",
   "execution_count": 207,
   "metadata": {},
   "outputs": [],
   "source": [
    "def preprocess_message(message):\n",
    "    \"\"\"Removes punctuations, any words with digits & then returns lowercase version of the message\n",
    "    \"\"\"\n",
    "    #Remove punctuations\n",
    "    no_punctuation = [char for char in message if char not in string.punctuation]\n",
    "    joined = ''.join(no_punctuation)\n",
    "    #Remove stopwords or any word with numbers\n",
    "    #Convert to lower case \n",
    "    return [ word.lower() for word in joined.split() if (word.lower() not in stopwords) and (not hasNumbers(word))]"
   ]
  },
  {
   "cell_type": "code",
   "execution_count": 192,
   "metadata": {
    "scrolled": true
   },
   "outputs": [
    {
     "data": {
      "text/plain": [
       "['days',\n",
       " 'feel',\n",
       " 'close',\n",
       " 'partner',\n",
       " 'friends',\n",
       " 'feel',\n",
       " 'peace',\n",
       " 'also',\n",
       " 'experience',\n",
       " 'close',\n",
       " 'contact',\n",
       " 'people',\n",
       " 'regard',\n",
       " 'greatly']"
      ]
     },
     "execution_count": 192,
     "metadata": {},
     "output_type": "execute_result"
    }
   ],
   "source": [
    "preprocess_message(df['data'][0])"
   ]
  },
  {
   "cell_type": "code",
   "execution_count": 193,
   "metadata": {},
   "outputs": [],
   "source": [
    "from sklearn.feature_extraction.text import CountVectorizer, TfidfTransformer\n",
    "from sklearn.model_selection import train_test_split, StratifiedKFold"
   ]
  },
  {
   "cell_type": "code",
   "execution_count": 194,
   "metadata": {},
   "outputs": [],
   "source": [
    "X = df['data']\n",
    "y = df['target']\n",
    "X_train, X_test, y_train, y_test = train_test_split(X, y, test_size=0.1, random_state=42)\n"
   ]
  },
  {
   "cell_type": "code",
   "execution_count": 195,
   "metadata": {
    "scrolled": true
   },
   "outputs": [],
   "source": [
    "count_vectorizer = CountVectorizer(analyzer=preprocess_message).fit(X_train)"
   ]
  },
  {
   "cell_type": "code",
   "execution_count": 196,
   "metadata": {
    "scrolled": true
   },
   "outputs": [
    {
     "name": "stdout",
     "output_type": "stream",
     "text": [
      "['aa', 'abandoned', 'abdomen', 'abdominal', 'abhorred', 'abhorrent', 'abilities', 'ability', 'able', 'abnormal', 'aboriginal', 'aborted', 'abortion', 'aboveboard', 'abroad', 'abrupt', 'abruptely', 'abruptly', 'absailing', 'abscence', 'absence', 'absent', 'absentminded', 'absentmindedness', 'absolutely', 'absurd', 'abuse', 'abused', 'abusing', 'abusive', 'abut', 'academic', 'academically', 'academics', 'academy', 'acccouting', 'accelerating', 'accent', 'accentance', 'accept', 'acceptable', 'acceptance', 'accepted', 'accepting', 'acceptted', 'accident', 'accidentally', 'accidentaly', 'accidently', 'accidents', 'accomodation', 'accompanied', 'accompany', 'accompanying', 'accomplish', 'accomplished', 'accomplishing', 'accomplishment', 'accorded', 'according', 'accosted', 'account', 'accounting', 'accounts', 'accquaintances', 'accquainted', 'accquired', 'accquiring', 'accredited', 'accrediting', 'accumulated', 'accusations', 'accused', 'accusers', 'accuses', 'ache', 'achieve', 'achieved', 'achievement', 'achieving', 'acknowledge', 'acknowledging', 'acquaintace', 'acquaintance', 'acquaintanced', 'acquaintances', 'acquainted', 'acquaintences', 'acquiring', 'across', 'act', 'acted', 'acting', 'action', 'actions', 'actioon', 'active', 'activities', 'activity', 'actor', 'actors', 'actress', 'acts', 'actual', 'actually', 'add', 'added', 'addiction', 'addition', 'additional', 'additonal', 'address', 'addressed', 'adepts', 'adequate', 'adequately', 'adheres', 'adjacent', 'adjective', 'adjoining', 'adjust', 'adjusted', 'adked', 'administration', 'administrative', 'admire', 'admired', 'admission', 'admist', 'admit', 'admited', 'admittance', 'admitted', 'admonished', 'adolescence', 'adolescent', 'adopted', 'adopting', 'adore', 'adored', 'adresses', 'adult', 'adultery', 'adults', 'advance', 'advanced', 'advances', 'advantage', 'adverse', 'advertisement', 'advice', 'advices', 'advise', 'advised', 'advisor', 'aeroplane', 'affair', 'affairs', 'affect', 'affected', 'affection', 'affectionate', 'affects', 'affluence', 'affluent', 'afford', 'afforded', 'afraid', 'africa', 'african', 'aftaid', 'afternoon', 'afternoons', 'afterwards', 'afthur', 'againt', 'age', 'aged', 'agency', 'ages', 'aggression', 'aggressions', 'aggressive', 'aggressively', 'agitation', 'ago', 'agreable', 'agree', 'agreed', 'agreeing', 'agreement', 'agreements', 'agressive', 'agricultural', 'ahead', 'ai', 'aid', 'aida', 'aids', 'aidshomosexuality', 'aims', 'air', 'aircraft', 'airplane', 'airport', 'aisle', 'akin', 'al', 'alameda', 'alarm', 'alcohol', 'alcoholic', 'alcool', 'alert', 'alien', 'alienating', 'alike', 'alimony', 'alive', 'allergic', 'alley', 'allocated', 'allotted', 'allow', 'allowance', 'allowances', 'allowed', 'allowing', 'allright', 'almanach', 'almonds', 'almost', 'alone', 'along', 'aloud', 'alowed', 'already', 'alright', 'alsatians', 'also', 'alternative', 'although', 'altough', 'always', 'amazed', 'ambition', 'ambitions', 'ambivalent', 'ambulants', 'america', 'american', 'americans', 'amerika', 'amicable', 'amidophen', 'amnesty', 'amok', 'among', 'amongst', 'amount', 'amounts', 'amsterdam', 'amt', 'amused', 'amusement', 'amusing', 'anaemia', 'anaesthesia', 'analysis', 'analyze', 'anasthesia', 'anatomy', 'anaunts', 'anbd', 'andor', 'anf', 'angeles', 'anger', 'angered', 'angers', 'angle', 'angrgy', 'angrily', 'angry', 'anguish', 'animal', 'animals', 'annd', 'anniversary', 'announced', 'announcement', 'annoyed', 'annoying', 'ano', 'another', 'anothers', 'answer', 'answered', 'answering', 'answers', 'antagonistic', 'anthony', 'anti', 'anticipate', 'anticipated', 'anticipation', 'anticipatory', 'antihygienically', 'antipornography', 'antique', 'ants', 'antthing', 'anxiety', 'anxious', 'anybody', 'anymore', 'anyone', 'anything', 'anythong', 'anyway', 'aotea', 'apart', 'apartment', 'aphasia', 'apologise', 'apologize', 'apologized', 'apologizing', 'apparatus', 'apparent', 'appartment', 'appartments', 'appeal', 'appear', 'appearance', 'appearances', 'appeard', 'appeared', 'appearence', 'appearing', 'appears', 'appeased', 'appered', 'appetising', 'applainces', 'applauded', 'applause', 'apple', 'apples', 'applicable', 'application', 'applied', 'applies', 'apply', 'applying', 'appointed', 'appointment', 'appointments', 'appontment', 'appparently', 'appraching', 'appreciate', 'appreciated', 'apprehended', 'apprehensive', 'approach', 'approached', 'approaching', 'appropriate', 'appropriately', 'approval', 'approve', 'approved', 'approx', 'approximately', 'april', 'apron', 'aprox', 'apt', 'aquarium', 'arbitrary', 'arcade', 'area', 'areas', 'arena', 'arent', 'argue', 'argued', 'arguing', 'argument', 'argumentations', 'arguments', 'arisen', 'arm', 'armed', 'armor', 'armrest', 'arms', 'army', 'arnhems', 'arose', 'around', 'aroused', 'arrange', 'arranged', 'arrangements', 'arrest', 'arrested', 'arrival', 'arrive', 'arrived', 'arrives', 'arriving', 'arrogant', 'arse', 'arthur', 'arthurs', 'article', 'artistic', 'arts', 'asciatic', 'asfixiated', 'ashamad', 'ashamed', 'ashtray', 'asia', 'asian', 'asiatic', 'aside', 'ask', 'askad', 'asked', 'asking', 'asks', 'asleep', 'aspect', 'aspects', 'aspirations', 'aspirins', 'assassination', 'assault', 'assaulted', 'assaulters', 'assaulting', 'assaults', 'assembly', 'assessed', 'assessment', 'assign', 'assigned', 'assignment', 'assignments', 'assist', 'assistant', 'assistat', 'assisted', 'assisting', 'associated', 'associates', 'associating', 'association', 'assulted', 'assume', 'assured', 'asthma', 'astrologycal', 'ate', 'athens', 'athletic', 'athletics', 'atmosphere', 'atrophyed', 'attack', 'attackad', 'attacked', 'attacking', 'attacks', 'attain', 'attainable', 'attained', 'attecked', 'attempt', 'attempted', 'attempting', 'attempts', 'attend', 'attendance', 'attendant', 'attended', 'attending', 'attention', 'attire', 'attitude', 'attitudes', 'attracted', 'attracting', 'attractive', 'attributes', 'auckland', 'audiece', 'audience', 'audiovisual', 'audition', 'auditorium', 'august', 'aunt', 'auntie', 'aunts', 'aunty', 'aupairgirl', 'australia', 'australian', 'austrian', 'authoritarian', 'authoritative', 'authorities', 'authority', 'authorized', 'auto', 'autonomous', 'autopilot', 'autumn', 'auxiliary', 'avail', 'available', 'avenue', 'average', 'aversion', 'avoid', 'avoided', 'avoiding', 'avoids', 'awake', 'awakened', 'award', 'awarded', 'aware', 'awareness', 'away', 'awful', 'awfully', 'awhile', 'awkward', 'awoke', 'axam', 'axcursion', 'axe', 'b', 'ba', 'babies', 'baby', 'babys', 'babysitter', 'babysitting', 'bacame', 'bacause', 'bach', 'bachelor', 'back', 'backdoor', 'backed', 'backgrounds', 'backward', 'backwards', 'backyard', 'bad', 'badly', 'badmannered', 'badminton', 'badness', 'bag', 'bago', 'bags', 'bahaviour', 'baked', 'balance', 'balcony', 'bald', 'ball', 'ballet', 'balloon', 'ballpointpen', 'banana', 'band', 'bandits', 'bandwagon', 'banging', 'bank', 'bankrupt', 'banks', 'banned', 'banquet', 'baobab', 'baptized', 'bar', 'barbecue', 'barely', 'barged', 'bark', 'barked', 'barking', 'barperson', 'barracks', 'barrel', 'barrier', 'bars', 'base', 'baseball', 'based', 'basic', 'basically', 'basin', 'basis', 'basket', 'basketball', 'bath', 'bathed', 'bathing', 'bathroom', 'bathtub', 'battered', 'battle', 'baving', 'bawling', 'bay', 'bbq', 'beacause', 'beach', 'beam', 'bean', 'bear', 'bearers', 'bearing', 'bears', 'beast', 'beat', 'beated', 'beaten', 'beather', 'beating', 'beautiful', 'beauty', 'became', 'become', 'becoming', 'bed', 'bedding', 'bedridden', 'bedroom', 'beds', 'bedsheets', 'beeing', 'beer', 'beers', 'beetle', 'beg', 'began', 'beggar', 'begggar', 'begging', 'begin', 'beginer', 'begining', 'beginning', 'begun', 'behalf', 'behave', 'behaved', 'behaves', 'behaving', 'behavior', 'behaviour', 'behind', 'behing', 'beijing', 'belching', 'belgium', 'belief', 'beliefs', 'believe', 'believed', 'believes', 'believing', 'belittled', 'bell', 'belogradchik', 'belong', 'belonged', 'belonging', 'belongings', 'beloved', 'belt', 'bench', 'benches', 'bend', 'bending', 'beneath', 'benefit', 'benidorm', 'benson', 'bent', 'berkeley', 'berlin', 'bertoluchis', 'beside', 'besides', 'best', 'bet', 'betray', 'betrayed', 'betraying', 'bets', 'better', 'bewitch', 'bewitched', 'bey', 'beyond', 'bias', 'biased', 'bible', 'bictorian', 'bicycle', 'bicycleaccident', 'bicycling', 'bid', 'big', 'bigger', 'bike', 'biked', 'biking', 'bikini', 'bill', 'billiards', 'bills', 'bin', 'bins', 'biochemistry', 'biologic', 'biological', 'biology', 'bird', 'birdcage', 'birds', 'birdswans', 'birth', 'birthday', 'birthdays', 'birthray', 'biscuits', 'bisshop', 'bit', 'bitching', 'bite', 'biting', 'bitten', 'bitter', 'bkoke', 'black', 'blackbeetle', 'blackboard', 'blackout', 'blacks', 'bladder', 'blade', 'blake', 'blame', 'blamed', 'blames', 'blaming', 'blank', 'blanket', 'blankets', 'blankness', 'blantyre', 'blatant', 'bled', 'bleeded', 'bleeding', 'blessed', 'blessful', 'blew', 'blind', 'blinding', 'blindworm', 'bliss', 'block', 'blocked', 'blocks', 'blood', 'bloodsuckers', 'bloody', 'bloopers', 'blow', 'blowing', 'blown', 'blue', 'bluffing', 'blunder', 'blunders', 'blunt', 'bluntly', 'blurted', 'blush', 'blushed', 'blushing', 'board', 'boarded', 'boarder', 'boarding', 'boast', 'boasting', 'boat', 'bodies', 'bodily', 'body', 'bold', 'boma', 'bomb', 'bombay', 'bond', 'bonfire', 'book', 'booked', 'bookreport', 'books', 'bookshop', 'bootlickers', 'boots', 'bophal', 'bordering', 'bored', 'boredom', 'boring', 'born', 'borrow', 'borrowed', 'borrowing', 'bosom', 'boss', 'bosscar', 'bosses', 'bother', 'bothered', 'bothering', 'bottle', 'bottled', 'bottom', 'bought', 'bounced', 'bouncer', 'bounds', 'bouquet', 'bourgas', 'bowel', 'bowels', 'bowl', 'bowled', 'box', 'boxed', 'boxes', 'boxing', 'boy', 'boycott', 'boycotted', 'boyfriend', 'boyfriends', 'boyfriens', 'boys', 'braced', 'bracelet', 'brain', 'brake', 'braked', 'brakes', 'brances', 'branch', 'brand', 'brave', 'brazilian', 'breackdown', 'bread', 'breadcrumbs', 'breadth', 'break', 'breakdown', 'breake', 'breakfast', 'breaking', 'breakup', 'breast', 'breasts', 'breath', 'breathing', 'breathless', 'bribe', 'bribed', 'bribing', 'bridesmaid', 'bridge', 'brief', 'briefly', 'brigade', 'brightest', 'brightly', 'bring', 'bringing', 'brings', 'brisbane', 'bristle', 'britain', 'brittain', 'broad', 'broadcast', 'broadcasting', 'broke', 'brokedown', 'broken', 'brookfield', 'brothel', 'brother', 'brotherinlaw', 'brotherinlaws', 'brothers', 'brothersister', 'brought', 'bruised', 'brutalized', 'brutally', 'bsc', 'buay', 'bucket', 'budgie', 'budgies', 'build', 'building', 'buildings', 'built', 'buisness', 'bulgaria', 'bulgarian', 'bulgarians', 'bull', 'bullets', 'bulling', 'bully', 'bum', 'bump', 'bumped', 'bumper', 'bun', 'bunch', 'bunk', 'bunking', 'bunks', 'burden', 'burdened', 'bureau', 'bureaucratic', 'burglar', 'burglars', 'burglary', 'burgled', 'burglers', 'burial', 'burn', 'burned', 'burns', 'burnt', 'burping', 'burst', 'bus', 'bush', 'bushas', 'bushes', 'business', 'busstop', 'busted', 'busy', 'butchers', 'butchery', 'butt', 'butter', 'butts', 'buy', 'buying', 'byke', 'bypass', 'bypassed', 'c', 'cab', 'cabin', 'cadet', 'caesarean', 'cafe', 'cafeteria', 'cake', 'cakes', 'cal', 'calamity', 'calculation', 'calcutta', 'caliber', 'california', 'call', 'called', 'callender', 'calling', 'calls', 'calm', 'calmed', 'calmly', 'calumnating', 'calumny', 'cambridge', 'came', 'camera', 'cameras', 'camp', 'campground', 'camping', 'camps', 'campus', 'canada', 'canadian', 'canccer', 'cancel', 'cancelled', 'cancer', 'candidates', 'candidature', 'canditate', 'candybar', 'cannot', 'canoe', 'canoeing', 'cans', 'cant', 'canteen', 'cantor', 'cap', 'capable', 'capacities', 'capacity', 'captain', 'captured', 'car', 'caraccident', 'carcass', 'card', 'cardiac', 'cardriver', 'cards', 'care', 'cared', 'career', 'carefree', 'careful', 'carefully', 'careless', 'carelessly', 'carelessness', 'cares', 'caressed', 'caretaker', 'caring', 'carinthia', 'carnaval', 'carnevalparty', 'carnival', 'carpark', 'carpenter', 'carpet', 'carpets', 'carressing', 'carriage', 'carried', 'carrots', 'carry', 'carrying', 'cars', 'carterer', 'case', 'cash', 'cassette', 'cassmate', 'cast', 'castration', 'casual', 'cat', 'catarrh', 'catastrophe', 'catch', 'catched', 'catching', 'categorically', 'catered', 'catering', 'caterpillar', 'caterpillars', 'catholic', 'catholicism', 'cats', 'cattle', 'caught', 'cauliflower', 'cause', 'caused', 'causes', 'causing', 'cautious', 'cave', 'caved', 'cease', 'celebral', 'celebrate', 'celebrated', 'celebrating', 'celebration', 'celebrations', 'celibacy', 'celibate', 'cell', 'cellar', 'cells', 'cellulose', 'cemetery', 'center', 'centered', 'central', 'centre', 'centuries', 'century', 'cerebral', 'ceremonies', 'ceremony', 'certain', 'certainly', 'certainty', 'certificate', 'chagrined', 'chain', 'chains', 'chair', 'chairman', 'chairs', 'challenge', 'challenged', 'chameleons', 'chamistry', 'champagne', 'champion', 'championship', 'championships', 'chance', 'chances', 'change', 'changed', 'changes', 'changing', 'chaos', 'chaotic', 'chap', 'chapel', 'chaps', 'character', 'characters', 'charge', 'charged', 'charm', 'charmed', 'charming', 'chase', 'chased', 'chasing', 'chasms', 'chat', 'chatted', 'chatting', 'cheap', 'cheat', 'cheated', 'cheaters', 'cheating', 'check', 'checked', 'checker', 'checking', 'checkup', 'cheek', 'cheekbones', 'cheeks', 'cheeky', 'cheered', 'cheerfulness', 'cheering', 'cheese', 'chelston', 'chemical', 'chemist', 'chemistry', 'chemists', 'cherised', 'cherish', 'cherries', 'cherry', 'chess', 'chew', 'chewinggum', 'chi', 'chichiri', 'chick', 'chicken', 'chico', 'chief', 'chikola', 'child', 'childhood', 'childish', 'childishly', 'children', 'childrens', 'childs', 'chili', 'chilumba', 'china', 'chinas', 'chinese', 'chipata', 'chips', 'chocked', 'choclale', 'chocolate', 'choice', 'choir', 'choke', 'choked', 'choking', 'choochoo', 'choose', 'choosing', 'choral', 'chores', 'chose', 'chosen', 'christ', 'christian', 'christmas', 'chronic', 'chronical', 'chung', 'chunk', 'church', 'chyne', 'cia', 'cider', 'cids', 'cigarattes', 'cigarette', 'cigarettes', 'cinema', 'circle', 'circles', 'circulate', 'circulated', 'circulating', 'circumstances', 'citizens', 'city', 'civo', 'claim', 'claimed', 'claiming', 'claims', 'clarified', 'class', 'classes', 'classifications', 'classified', 'classify', 'classifying', 'classmate', 'classmates', 'classnotes', 'classroom', 'classwork', 'claus', 'clean', 'cleaned', 'cleaning', 'cleanliness', 'cleanness', 'cleansing', 'clear', 'cleared', 'clearly', 'clebrate', 'clerk', 'clever', 'client', 'cliff', 'climax', 'climb', 'climbed', 'climbing', 'clinic', 'clinical', 'clinics', 'clock', 'close', 'closed', 'closely', 'closeness', 'closer', 'closest', 'closeup', 'closing', 'closure', 'cloth', 'clothes', 'clothing', 'cloudburst', 'clown', 'club', 'clubbedspiked', 'clubbing', 'clubs', 'clumsy', 'clutched', 'cm', 'coach', 'coaching', 'coast', 'coat', 'cobs', 'cockroach', 'cocktail', 'coconut', 'codfish', 'codliver', 'coevals', 'coffee', 'coffin', 'coin', 'coincidence', 'coins', 'cold', 'coldness', 'coleague', 'coles', 'collaborate', 'collapsed', 'colleage', 'colleague', 'colleagues', 'collect', 'collected', 'collecting', 'collection', 'collective', 'collector', 'college', 'colleges', 'collegue', 'collegues', 'collided', 'colliding', 'collision', 'colloquium', 'colonial', 'color', 'colored', 'colour', 'coloured', 'colouring', 'colours', 'colt', 'column', 'coma', 'come', 'comes', 'comfidence', 'comfort', 'comforting', 'coming', 'comitee', 'command', 'commanded', 'commander', 'commanding', 'comment', 'commentary', 'commented', 'comments', 'commercial', 'comming', 'commission', 'commit', 'commited', 'commitments', 'committed', 'committee', 'committing', 'committments', 'common', 'commonly', 'commons', 'communicate', 'communicated', 'communicating', 'communication', 'communion', 'communist', 'community', 'companion', 'company', 'comparable', 'compared', 'comparing', 'comparison', 'compartment', 'compatibility', 'compatible', 'compelled', 'compensation', 'compere', 'competent', 'competing', 'competion', 'competiotion', 'competition', 'competitions', 'competitor', 'competitress', 'complain', 'complained', 'complaining', 'complains', 'complaint', 'complaints', 'complete', 'completed', 'completely', 'completing', 'complex', 'compliants', 'complicated', 'complications', 'compliment', 'complimented', 'comply', 'composition', 'compound', 'compounder', 'compounds', 'comprehend', 'compress', 'compromise', 'compromised', 'compromising', 'compulsory', 'computer', 'computerassignment', 'comrade', 'comrades', 'comsomol', 'conceal', 'concede', 'conceded', 'concentrate', 'concentrating', 'concentration', 'conception', 'concern', 'concerned', 'concerning', 'concert', 'concerttour', 'concious', 'conclusion', 'conclusions', 'concourse', 'concrete', 'condemned', 'condition', 'conditioned', 'conditions', 'conduct', 'conducted', 'conducting', 'conductor', 'conference', 'confess', 'confessed', 'confession', 'confide', 'confided', 'confidence', 'confident', 'confidential', 'confidentiality', 'confindence', 'confirmation', 'confirmed', 'conflict', 'conflicts', 'confrontation', 'confronted', 'confronting', 'confused', 'confusing', 'confusion', 'congratulated', 'congratulating', 'congregation', 'connect', 'connected', 'connection', 'conquering', 'conscience', 'conscious', 'consciously', 'consciousness', 'consent', 'consequence', 'consequences', 'consequently', 'conservative', 'conservatoire', 'conservatorie', 'consider', 'considerable', 'consideration', 'considered', 'considering', 'considers', 'consistently', 'consolidate', 'constant', 'constantly', 'consternation', 'construction', 'constructive', 'consult', 'consultants', 'consulting', 'consumed', 'consumers', 'contact', 'contacted', 'contacting', 'contacts', 'container', 'containers', 'content', 'contents', 'contest', 'continious', 'continous', 'continously', 'continually', 'continue', 'continued', 'continuing', 'contraceptives', 'contract', 'contrary', 'contribute', 'contributed', 'contribution', 'control', 'controlled', 'controller', 'controlling', 'controversial', 'contusion', 'convenience', 'convenient', 'conversation', 'convert', 'converting', 'convey', 'conviction', 'convince', 'convinced', 'convincing', 'convocation', 'convoked', 'convulsions', 'convulsively', 'cook', 'cooked', 'cookery', 'cooking', 'cooks', 'cool', 'coop', 'cooperate', 'cooperation', 'cooperative', 'coordinator', 'coowners', 'copassengers', 'cope', 'copenhagen', 'copied', 'coping', 'coplain', 'copy', 'copying', 'core', 'coresident', 'corner', 'corners', 'cornet', 'coronation', 'corpse', 'correct', 'corrected', 'correctly', 'correspond', 'corresponding', 'corridor', 'corridors', 'corrupt', 'corruption', 'cos', 'cost', 'cot', 'cottage', 'cou', 'cough', 'coughed', 'coughing', 'cought', 'could', 'couldnt', 'couldntdidnt', 'council', 'counselling', 'counsellor', 'counselors', 'counted', 'counter', 'counterattack', 'counterfeited', 'counting', 'countries', 'country', 'countryside', 'counts', 'county', 'couple', 'couples', 'courage', 'courier', 'course', 'courses', 'court', 'courting', 'courtship', 'couse', 'cousin', 'cousins', 'couterargued', 'coutries', 'cover', 'covered', 'covers', 'cowardice', 'cowardliness', 'coworker', 'cows', 'cozyness', 'crab', 'crabs', 'crack', 'cracked', 'cracking', 'crafts', 'crake', 'cramps', 'craps', 'crash', 'crashed', 'crashing', 'crawl', 'crawler', 'crawling', 'crazy', 'creak', 'created', 'creating', 'creature', 'creche', 'credits', 'creepy', 'crept', 'crew', 'crib', 'cribbing', 'cricket', 'cried', 'cries', 'crime', 'crimes', 'criminal', 'cringe', 'cripple', 'crippled', 'crises', 'crisis', 'critic', 'critically', 'criticised', 'criticism', 'criticisms', 'criticize', 'criticized', 'criticizes', 'criticizing', 'crochet', 'crockery', 'crocodile', 'crocokile', 'crops', 'croquette', 'cross', 'crosscountry', 'crossed', 'crossing', 'crossroad', 'crowd', 'crowded', 'crowed', 'crter', 'crude', 'cruel', 'cruelly', 'cruelties', 'crumbs', 'crush', 'crushed', 'crutch', 'cry', 'crying', 'cs', 'ctiticized', 'cubicle', 'cucumber', 'cuddled', 'cuddling', 'cueing', 'culprit', 'cult', 'cultivated', 'cultural', 'culture', 'cultured', 'cumulated', 'cumulative', 'cup', 'cupboard', 'cure', 'cured', 'curiosity', 'curious', 'currency', 'current', 'currently', 'cursed', 'curt', 'curtain', 'curting', 'curve', 'cushions', 'custody', 'custom', 'customer', 'customs', 'cut', 'cute', 'cutlery', 'cuts', 'cutting', 'cv', 'cycle', 'cycled', 'cycling', 'd', 'dacing', 'dad', 'daddy', 'dads', 'daily', 'dallas', 'damage', 'damaged', 'damages', 'damaging', 'dame', 'damp', 'dampened', 'dance', 'danced', 'dancing', 'dancingtavern', 'dandy', 'danger', 'dangerous', 'dangerously', 'dangers', 'dannielsson', 'danse', 'dansed', 'dansing', 'danube', 'dare', 'dared', 'dark', 'darker', 'darkness', 'darling', 'dash', 'data', 'date', 'dated', 'dates', 'dating', 'daughter', 'daughterinlaw', 'daughters', 'dawn', 'day', 'daydreaming', 'daylight', 'days', 'dazzling', 'dc', 'de', 'dead', 'deadline', 'deaf', 'deafening', 'deal', 'dealer', 'dealers', 'dealing', 'deals', 'dean', 'dear', 'death', 'deaths', 'debt', 'debut', 'decadent', 'decapitation', 'deceitful', 'deceive', 'deceived', 'deceives', 'deceiving', 'december', 'decency', 'decent', 'decently', 'deception', 'decide', 'decided', 'decision', 'decisions', 'decisive', 'deck', 'declaration', 'declared', 'decline', 'declined', 'decorative', 'decrease', 'decreased', 'deed', 'deeds', 'deep', 'deepening', 'deeper', 'deeply', 'deer', 'defacto', 'defamatory', 'defeated', 'defecate', 'defecated', 'defecating', 'defect', 'defects', 'defence', 'defenceless', 'defend', 'defended', 'defending', 'defenseless', 'defensive', 'defiantly', 'deficiency', 'definately', 'definite', 'definitely', 'defying', 'degenerated', 'degraded', 'degrading', 'degree', 'dehumanizing', 'dejected', 'dekker', 'delay', 'delayed', 'delaying', 'delhi', 'deliberate', 'deliberately', 'delicious', 'delict', 'delight', 'delighted', 'delightful', 'delinquents', 'deliver', 'delivered', 'delivering', 'delivery', 'demand', 'demanded', 'demanding', 'demands', 'democracy', 'democrat', 'democratic', 'demolished', 'demonstrate', 'demonstrated', 'demonstrations', 'den', 'denied', 'denieing', 'denigrating', 'denmark', 'denounced', 'dental', 'dented', 'dentist', 'dentists', 'deny', 'depart', 'departing', 'department', 'departure', 'depended', 'dependent', 'depending', 'dependiong', 'deplorable', 'depot', 'deprecatory', 'depressed', 'depressing', 'depressions', 'depressive', 'deprived', 'depth', 'deputies', 'deputy', 'derivations', 'derogatory', 'desagreable', 'desappeared', 'descending', 'describe', 'described', 'describing', 'description', 'descriptions', 'desease', 'deserted', 'deserve', 'deserves', 'deserving', 'design', 'designed', 'designer', 'desire', 'desired', 'desires', 'desk', 'desks', 'desolate', 'despair', 'desperate', 'desperately', 'desperatly', 'despicable', 'despised', 'despite', 'despoiled', 'destination', 'destroyed', 'destruction', 'detail', 'detailed', 'details', 'detain', 'detained', 'detected', 'detector', 'detention', 'determinate', 'determined', 'detest', 'detestable', 'detested', 'detriment', 'detrimental', 'devastated', 'developed', 'devil', 'devised', 'devotion', 'diagnosed', 'diagnosis', 'diagnostic', 'dialect', 'dialled', 'diameter', 'diamond', 'diaries', 'diary', 'diazepam', 'dictatorship', 'didcovered', 'didnt', 'die', 'died', 'diego', 'diesel', 'diet', 'difference', 'differences', 'different', 'differently', 'differentt', 'difficult', 'difficulties', 'difficulty', 'digger', 'dignity', 'diificult', 'dilation', 'dim', 'dine', 'dined', 'dining', 'dinner', 'dinnerservice', 'dinning', 'direct', 'directed', 'directing', 'direction', 'directions', 'directly', 'director', 'directors', 'dirt', 'dirtied', 'dirty', 'dirtyness', 'disabled', 'disagreable', 'disagreeable', 'disagreed', 'disagreement', 'disagreements', 'disagrees', 'disappearance', 'disappeared', 'disappearing', 'disappointed', 'disappointing', 'disappointment', 'disapproved', 'disapprovingly', 'disaster', 'disastrous', 'disbelieve', 'discarded', 'discharged', 'discipline', 'disciplined', 'disclosed', 'disco', 'discomfort', 'disconight', 'disconnected', 'disconsolation', 'discontent', 'discontinue', 'discontinued', 'discord', 'discords', 'discotheque', 'discotheques', 'discount', 'discountinue', 'discover', 'discovered', 'discovering', 'discrediting', 'discriminate', 'discriminating', 'discrimination', 'discuss', 'discussed', 'discussing', 'discussion', 'discussions', 'disease', 'diseases', 'disfigured', 'disgust', 'disgusted', 'disgusting', 'disgusts', 'dish', 'disheartened', 'dishes', 'dishonest', 'dishonestly', 'disillusioning', 'dislike', 'disliked', 'disloyal', 'disloyally', 'dismissed', 'disobey', 'disobeyed', 'dispate', 'displayed', 'displeased', 'displeasure', 'dispropotionately', 'disqualification', 'disqualified', 'disregard', 'disregarded', 'dissappointed', 'dissatisfied', 'dissect', 'dissecting', 'dissectingcourse', 'dissection', 'dissertation', 'dissuade', 'distance', 'distances', 'distant', 'distasteful', 'distinction', 'distinctions', 'distorted', 'distortions', 'distract', 'distracted', 'distressed', 'district', 'distroy', 'distroyed', 'distrusted', 'disturb', 'disturbances', 'disturbed', 'disturbing', 'ditch', 'ditched', 'dived', 'divers', 'divided', 'diving', 'division', 'divorce', 'divorced', 'dizziness', 'dizzy', 'dnce', 'doctor', 'doctors', 'documentary', 'documentay', 'documents', 'doesnt', 'dog', 'dogit', 'dogmatic', 'dogs', 'dogwho', 'doll', 'dollar', 'dollars', 'domestic', 'dominated', 'dominating', 'done', 'dont', 'doomed', 'dooms', 'door', 'doorbell', 'doorknobs', 'doormat', 'doors', 'doorway', 'dorm', 'dormer', 'dormitory', 'dorms', 'dostoersky', 'double', 'doublecrossed', 'doublecrossing', 'doubt', 'doubted', 'doubts', 'doudts', 'downcast', 'downgraded', 'downhill', 'downs', 'downstairs', 'downtown', 'dozen', 'dr', 'dragged', 'drain', 'draining', 'drains', 'drama', 'dramatic', 'drank', 'draught', 'draw', 'drawer', 'drawers', 'drawing', 'drawn', 'dreadful', 'dream', 'dreamed', 'dreaming', 'dreams', 'dreamt', 'dress', 'dressed', 'dresses', 'dressing', 'dressrehearsal', 'drew', 'driebergen', 'driend', 'drift', 'drifted', 'drifting', 'drill', 'drink', 'drinking', 'drinknig', 'drinks', 'drip', 'dripping', 'drive', 'drived', 'driven', 'driver', 'drivers', 'drives', 'driveway', 'driving', 'drivingtest', 'drop', 'dropped', 'drought', 'drove', 'drown', 'drowned', 'drowning', 'drug', 'drugs', 'drum', 'drummer', 'drums', 'drumskin', 'drunk', 'drunkard', 'drunken', 'drunkers', 'dry', 'dubious', 'ducks', 'duct', 'due', 'dull', 'dullest', 'dullness', 'duly', 'dumb', 'dumbfounded', 'dummy', 'dumped', 'dunes', 'dung', 'duration', 'dustbin', 'duster', 'dusty', 'dutch', 'duties', 'duty', 'dwelling', 'dyestuff', 'dying', 'dynasty', 'e', 'eachother', 'eachothers', 'eager', 'ear', 'earlier', 'early', 'earn', 'earned', 'earning', 'earring', 'earrings', 'ears', 'earth', 'earthquake', 'ease', 'easier', 'easily', 'east', 'easter', 'easy', 'easygoing', 'eat', 'eaten', 'eating', 'eclipse', 'ecoactivists', 'ecography', 'economic', 'economically', 'economics', 'ecstatic', 'editor', 'educate', 'educated', 'education', 'educational', 'educatioon', 'eel', 'eels', 'effect', 'effected', 'effects', 'effet', 'effort', 'efforts', 'eg', 'egg', 'eggs', 'egoist', 'egoistic', 'egoistical', 'egotism', 'eight', 'eighteen', 'eighth', 'eighty', 'either', 'ejaculation', 'el', 'elaborate', 'elapsed', 'elation', 'elder', 'elderly', 'elders', 'elected', 'election', 'elections', 'electric', 'electrical', 'elegant', 'element', 'elementary', 'elevator', 'elevators', 'eleven', 'eleventh', 'else', 'elses', 'elsewhere', 'elucidating', 'embarassed', 'embarassing', 'embarking', 'embarrasing', 'embarrassed', 'embarrassing', 'embarrassment', 'embezzelling', 'embraced', 'emerged', 'emergency', 'eminent', 'emotion', 'emotional', 'emotionally', 'emotionalspiritual', 'emotions', 'empathy', 'emphasize', 'employed', 'employee', 'employer', 'employers', 'employment', 'emptied', 'empty', 'emptyness', 'enable', 'enact', 'enclosed', 'encounter', 'encountered', 'encountering', 'encounters', 'encourage', 'encouraged', 'encouragement', 'encouter', 'end', 'endeavours', 'ended', 'ending', 'endless', 'endofsemester', 'endofterm', 'ends', 'endure', 'enemies', 'energy', 'eng', 'engaged', 'engagement', 'engaging', 'engineer', 'engineering', 'engines', 'england', 'english', 'engrossed', 'enjoy', 'enjoyable', 'enjoyed', 'enjoying', 'enlightenment', 'enormous', 'enough', 'enquired', 'enquiry', 'enrolled', 'enrolling', 'ent', 'enter', 'entered', 'entering', 'enterprise', 'entertaining', 'entertainment', 'enthusiasm', 'enthusiastic', 'entire', 'entitled', 'entrails', 'entrance', 'entrusted', 'entry', 'envelope', 'enveloppe', 'enveloppes', 'environment', 'environmental', 'environments', 'epileptic', 'episode', 'equal', 'equates', 'equipment', 'equipped', 'equivocal', 'ere', 'erection', 'errand', 'errands', 'erroneous', 'error', 'errors', 'escalator', 'escape', 'escaped', 'escort', 'escorting', 'esp', 'especially', 'essay', 'essays', 'essence', 'establish', 'establishing', 'establishment', 'esteem', 'estimate', 'estimation', 'estrangement', 'etc', 'eternal', 'ethiopia', 'ethnic', 'ethnicity', 'etiopia', 'etiquette', 'europe', 'europeans', 'evaluated', 'evaluation', 'eve', 'even', 'evenb', 'evening', 'event', 'events', 'eventually', 'ever', 'every', 'everyboby', 'everybody', 'everybodys', 'everyday', 'everyone', 'everythiing', 'everything', 'everytime', 'everywhere', 'eves', 'eveyone', 'evil', 'evoked', 'evokes', 'evrey', 'ex', 'exacly', 'exact', 'exactly', 'exacution', 'exaggerated', 'exaggerating', 'exaltation', 'exam', 'examinateur', 'examination', 'examinations', 'examinator', 'examine', 'examined', 'examiners', 'examining', 'examinor', 'examn', 'examns', 'examplary', 'example', 'exams', 'examsi', 'exarcise', 'exasperation', 'exboyfriend', 'exboyfriends', 'excaping', 'excellent', 'excellently', 'except', 'exception', 'exceptional', 'exces', 'exchange', 'excited', 'excitedly', 'excitement', 'exciting', 'excluded', 'exclusion', 'exclusively', 'excolleague', 'excrements', 'excreted', 'excursion', 'excuse', 'excused', 'excuses', 'executions', 'executive', 'exemple', 'exercise', 'exercises', 'exflatmate', 'exgirlfriend', 'exhausting', 'exhibit', 'exhibition', 'exhibitionist', 'exhilarating', 'exhusband', 'exist', 'existance', 'existed', 'existence', 'existential', 'existing', 'exists', 'exit', 'exitus', 'expect', 'expectations', 'expected', 'expecting', 'expel', 'expelled', 'expense', 'expenses', 'expensive', 'experience', 'experienced', 'experiences', 'experiencing', 'experiment', 'experimental', 'experimentor', 'experiments', 'experts', 'expired', 'explain', 'explained', 'explaining', 'explanation', 'explanations', 'explode', 'exploitation', 'exploited', 'exploiting', 'exploration', 'exports', 'exposed', 'exposition', 'expound', 'expreience', 'express', 'expressed', 'expressing', 'expression', 'expressions', 'expulsion', 'extended', 'extension', 'extent', 'extermination', 'extra', 'extreme', 'extremely', 'extremes', 'extrene', 'eye', 'eyed', 'eyes', 'eyesight', 'f', 'face', 'faced', 'faces', 'facial', 'facilities', 'facing', 'fact', 'facto', 'factor', 'factors', 'factory', 'facts', 'faculty', 'fade', 'fads', 'faeces', 'fag', 'fail', 'failed', 'failing', 'fails', 'failure', 'failures', 'faint', 'fainted', 'fair', 'fairly', 'fairy', 'faith', 'faithful', 'fall', 'fallen', 'falling', 'falls', 'false', 'falsely', 'falsity', 'faltered', 'famale', 'familiar', 'families', 'family', 'famine', 'fancy', 'fans', 'fanta', 'fantasies', 'fantastic', 'far', 'fare', 'farewell', 'farm', 'farted', 'farther', 'faschistic', 'fascination', 'fase', 'fashion', 'fashionshow', 'fashonable', 'fast', 'faster', 'fastidious', 'fastlydriven', 'fat', 'fatally', 'fate', 'fated', 'father', 'fathers', 'fattening', 'fatty', 'fault', 'faulty', 'favor', 'favored', 'favorite', 'favour', 'favourable', 'favourite', 'favouritism', 'favours', 'fawcet', 'fawning', 'fb', 'feaces', 'fealing', 'fear', 'feared', 'fearful', 'fearing', 'fears', 'feats', 'feature', 'featured', 'features', 'february', 'fed', 'fee', 'feedback', 'feeding', 'feedom', 'feel', 'feeliings', 'feeling', 'feelings', 'feels', 'fees', 'feet', 'feigning', 'feira', 'feld', 'felf', 'fell', 'fellatio', 'fellow', 'fellows', 'fellowship', 'fellowstudents', 'felow', 'felt', 'female', 'femur', 'fence', 'fer', 'ferry', 'ferryboat', 'festival', 'fetch', 'fetched', 'fever', 'fews', 'fiancee', 'fiances', 'fianct', 'fiancte', 'fiancts', 'fictitious', 'fidgi', 'field', 'fierce', 'fifth', 'fight', 'fighting', 'fights', 'figs', 'figure', 'figures', 'files', 'filing', 'fill', 'filled', 'filling', 'fills', 'film', 'films', 'filmshow', 'filtered', 'filthy', 'fim', 'finacial', 'final', 'finally', 'finaly', 'finance', 'finances', 'financial', 'financially', 'finching', 'find', 'finding', 'finds', 'fine', 'fined', 'fingers', 'finish', 'finished', 'finishing', 'finland', 'finn', 'finns', 'fire', 'firecracker', 'fired', 'firm', 'firmly', 'first', 'firstday', 'fish', 'fisherman', 'fishermen', 'fishing', 'fishy', 'fist', 'fit', 'fits', 'fitted', 'fitter', 'five', 'fix', 'fixed', 'fixing', 'fizzled', 'flags', 'flame', 'flames', 'flapping', 'flare', 'flared', 'flashed', 'flashing', 'flat', 'flatmate', 'flatmates', 'flatter', 'flattering', 'flaws', 'flesh', 'flet', 'flicking', 'flight', 'flimsy', 'fliperama', 'flirt', 'flirted', 'flirting', 'flock', 'flood', 'flooded', 'floor', 'floors', 'floot', 'flop', 'florence', 'floriculture', 'flour', 'flowers', 'floyd', 'flu', 'fluid', 'flunked', 'flunkeys', 'flurry', 'flushed', 'flute', 'fluteteacher', 'fly', 'flying', 'fobic', 'foetal', 'foetus', 'fog', 'foggy', 'foiled', 'folders', 'folklore', 'folling', 'follow', 'followed', 'following', 'fom', 'fond', 'food', 'foods', 'fool', 'fooled', 'fooling', 'foolish', 'foolishly', 'foolishness', 'fools', 'foot', 'football', 'footsteps', 'forbidden', 'forbidding', 'forbids', 'force', 'forced', 'forcefed', 'forceps', 'forces', 'ford', 'forehead', 'foreign', 'foreigner', 'foreigners', 'foresaw', 'forest', 'foretell', 'forever', 'forgave', 'forget', 'forgetting', 'forgivable', 'forgive', 'forgiving', 'forgo', 'forgot', 'forgotten', 'form', 'formal', 'formaline', 'formally', 'formed', 'former', 'formi', 'forniture', 'forthcoming', 'fortnight', 'fortuitous', 'fortunately', 'fortune', 'forty', 'forward', 'fossicking', 'foster', 'fostered', 'fot', 'foud', 'fought', 'foul', 'found', 'fountainpen', 'four', 'fourth', 'fouryear', 'fractoin', 'fracture', 'fragile', 'frame', 'fran', 'france', 'frank', 'frankly', 'frantois', 'fraser', 'frat', 'fraternity', 'free', 'freed', 'freedom', 'freedome', 'freely', 'freeterm', 'freeway', 'french', 'frequent', 'frequently', 'fresh', 'freshman', 'freshmen', 'freud', 'friction', 'friday', 'fridge', 'frieend', 'frieends', 'friend', 'friendly', 'friends', 'friendsfianct', 'friendship', 'friendson', 'friendspartners', 'frienships', 'fries', 'fright', 'frighten', 'frightened', 'frighteneed', 'frightening', 'frigthened', 'frocks', 'frog', 'frogburgers', 'fron', 'frongseatpassenger', 'front', 'frost', 'froze', 'frozen', 'fruit', 'frump', 'frustated', 'frustation', 'frustrated', 'frustrating', 'frying', 'fucking', 'fuel', 'fulfil', 'fulfill', 'fulfilled', 'fulfilling', 'fulfillment', 'fulfils', 'full', 'fullscale', 'fully', 'fun', 'function', 'fund', 'funds', 'funeral', 'funny', 'fur', 'furious', 'furlough', 'furniture', 'furseals', 'furthermore', 'fuse', 'fuss', 'future', 'fuvest', 'g', 'gained', 'galicia', 'gallows', 'gamble', 'gambling', 'game', 'games', 'gandhi', 'gang', 'gangs', 'gaping', 'garage', 'garden', 'gare', 'garlic', 'garment', 'gas', 'gate', 'gather', 'gathered', 'gathering', 'gatherings', 'gathhered', 'gave', 'gay', 'gays', 'gear', 'gearlever', 'general', 'generally', 'generated', 'generation', 'genetices', 'genitals', 'gentleman', 'genuine', 'genuinely', 'geography', 'ger', 'german', 'germany', 'gerona', 'gesticulate', 'gesture', 'gestures', 'gesturing', 'get', 'gets', 'getting', 'ghandi', 'ghost', 'ghostlike', 'ghostmurder', 'ghosts', 'gift', 'gigantic', 'gipsies', 'girdle', 'girl', 'girlfriend', 'girlfriends', 'girllfriend', 'girls', 'give', 'given', 'gives', 'giving', 'glad', 'gladness', 'glances', 'glands', 'glass', 'glasses', 'glasseye', 'glassy', 'glazed', 'glimpse', 'gloom', 'glove', 'glow', 'glowing', 'glue', 'glued', 'glutton', 'gluttony', 'glycerine', 'go', 'goal', 'goals', 'god', 'goddess', 'godmother', 'gods', 'goes', 'going', 'gold', 'goldmedal', 'golf', 'gone', 'good', 'goodbye', 'goodfornothing', 'goodhumoured', 'goodlooking', 'goods', 'goodtimes', 'gooey', 'gook', 'goose', 'gospel', 'gossip', 'gossiped', 'gossiping', 'got', 'gothenburg', 'gotten', 'gottenburg', 'gound', 'gouts', 'government', 'governments', 'govrenment', 'gpa', 'grab', 'grabbed', 'grace', 'grade', 'graded', 'grader', 'grades', 'grading', 'gradmother', 'gradually', 'graduate', 'graduates', 'graduatiion', 'graduation', 'grand', 'grande', 'grandfather', 'grandfathers', 'grandma', 'grandmas', 'grandmother', 'grandmothers', 'grandparents', 'granduncle', 'granny', 'grannys', 'grant', 'granted', 'grants', 'graphic', 'grass', 'gratifying', 'gratitude', 'grave', 'gravel', 'graveyard', 'gravy', 'graz', 'graze', 'grease', 'greasy', 'great', 'greater', 'greatest', 'greatly', 'greece', 'greed', 'green', 'greet', 'greeted', 'greeting', 'greetings', 'grenade', 'grew', 'grey', 'grief', 'grieve', 'grip', 'griped', 'gripped', 'grnadfather', 'grocery', 'gross', 'grotesque', 'ground', 'grounds', 'group', 'groups', 'grovel', 'grovelling', 'growing', 'growling', 'grown', 'gruel', 'grumble', 'grumbled', 'grumbles', 'grunted', 'guard', 'guardian', 'guardians', 'guardman', 'guards', 'guarusa', 'guess', 'guessed', 'guest', 'guests', 'guffaws', 'guidance', 'guide', 'guiderail', 'guilt', 'guiltconscious', 'guiltier', 'guilty', 'guiltyconscious', 'guinea', 'guineapig', 'guitar', 'guity', 'gule', 'gulf', 'gulls', 'gully', 'gulping', 'gum', 'gummy', 'gun', 'gunpoint', 'guns', 'gunshots', 'gush', 'gushing', 'gutar', 'guts', 'guttenburg', 'gutter', 'gutttenburg', 'guy', 'guys', 'gv', 'gymnastic', 'gymnastics', 'gynaecological', 'gynecologist', 'gypsies', 'habit', 'habits', 'habitual', 'hadnt', 'hah', 'hainburg', 'hair', 'hairdressers', 'hairs', 'hale', 'half', 'halfheartedly', 'hall', 'halloween', 'hallway', 'halped', 'hamburger', 'hamburgers', 'hampering', 'hamster', 'hand', 'handbag', 'handed', 'handful', 'handicapped', 'handing', 'handkerchief', 'handle', 'handlebar', 'handled', 'handling', 'handmade', 'hands', 'hanged', 'hanging', 'hannes', 'hapened', 'happen', 'happened', 'happenes', 'happening', 'happens', 'happier', 'happiest', 'happily', 'happiness', 'happpy', 'happy', 'harassed', 'harassment', 'harbors', 'harbour', 'hard', 'harder', 'hardest', 'hardly', 'hardware', 'harm', 'harmed', 'harmful', 'harmfully', 'harming', 'harrassed', 'harrassing', 'harrassment', 'harsh', 'harshly', 'hashish', 'hassled', 'hasty', 'hate', 'hated', 'hatred', 'hauled', 'haunted', 'havent', 'head', 'headed', 'header', 'heading', 'headlight', 'headman', 'headmaster', 'headmasters', 'headmistress', 'headquarters', 'heads', 'heal', 'health', 'healthy', 'healty', 'heap', 'heaped', 'heaps', 'hear', 'heard', 'hearing', 'hears', 'heart', 'heartattack', 'heartbroken', 'heartily', 'heartrending', 'hearty', 'heat', 'heated', 'heavily', 'heavy', 'heavyly', 'heckle', 'hed', 'hedges', 'height', 'heights', 'held', 'helded', 'helder', 'hell', 'hello', 'help', 'helped', 'helper', 'helpful', 'helping', 'helpless', 'helplessly', 'helplessness', 'helps', 'helsinki', 'hemorhage', 'hemorrhage', 'hemorrhages', 'hen', 'hence', 'henry', 'hepatitis', 'herb', 'herd', 'hero', 'hes', 'hesitant', 'hesitate', 'hesitated', 'hi', 'hid', 'hidden', 'hide', 'hiding', 'high', 'higher', 'highest', 'highheeled', 'highly', 'highschool', 'hiked', 'hiking', 'hill', 'hills', 'himsellf', 'hindered', 'hindrance', 'hindrances', 'hindsight', 'hinged', 'hinted', 'hints', 'hipertonia', 'hire', 'hired', 'hires', 'hiroshima', 'hisher', 'hissingen', 'historical', 'history', 'hit', 'hitandrun', 'hitch', 'hitchcock', 'hitchhiked', 'hitchhiking', 'hitler', 'hitting', 'hk', 'hobby', 'hold', 'holder', 'holdidays', 'holding', 'holdup', 'hole', 'holes', 'holiday', 'holidays', 'hollow', 'hollowcheeked', 'holocaust', 'holy', 'home', 'homes', 'homesick', 'hometown', 'homework', 'homeworks', 'homosexual', 'homosexuals', 'honda', 'honduran', 'honest', 'honestly', 'honey', 'honeymoon', 'hong', 'hooks', 'hooted', 'hope', 'hoped', 'hopeless', 'hopelessly', 'hopelessness', 'hopes', 'hoping', 'hopped', 'horizon', 'horrendous', 'horrible', 'horrifically', 'horror', 'horrot', 'horse', 'horseplay', 'hospitable', 'hospital', 'hospitalized', 'hospitals', 'host', 'hosted', 'hostel', 'hostesses', 'hostility', 'hot', 'hotel', 'hour', 'hours', 'house', 'housegarden', 'househunting', 'housekeeping', 'housemates', 'housemen', 'houses', 'housesitting', 'housework', 'housing', 'however', 'hs', 'hsc', 'hss', 'hug', 'huge', 'hugged', 'human', 'humanely', 'humanoids', 'humbly', 'humiliate', 'humiliated', 'humiliating', 'humility', 'humorous', 'humour', 'hundred', 'hundreds', 'hung', 'hunger', 'hungry', 'hunter', 'hunting', 'hurried', 'hurry', 'hurt', 'hurting', 'hurts', 'husband', 'husbands', 'hut', 'hyena', 'hyenas', 'hygiene', 'hyper', 'hyperactive', 'hypocrisy', 'hypocrite', 'hypocrites', 'hypocritical', 'hysterical', 'icc', 'ice', 'icebox', 'icecream', 'icehockey', 'icy', 'id', 'idea', 'ideal', 'ideals', 'ideas', 'ideasbeliefs', 'identification', 'identity', 'idiot', 'idle', 'idol', 'ie', 'ifk', 'ignorance', 'ignorant', 'ignore', 'ignored', 'ignores', 'ignoring', 'ii', 'iii', 'ilha', 'ill', 'illconsidered', 'illegitimately', 'illiteracy', 'illness', 'illnessetc', 'illoyal', 'illustration', 'im', 'image', 'images', 'imagination', 'imagine', 'imagined', 'imagining', 'imec', 'imf', 'imitated', 'imitating', 'immature', 'immediate', 'immediately', 'immense', 'immensely', 'immigrate', 'immobile', 'immoral', 'immorality', 'immorally', 'impatient', 'impatiently', 'imperfect', 'imperial', 'impertinently', 'implicated', 'implications', 'implicit', 'implied', 'implying', 'impolite', 'impolitely', 'importance', 'important', 'imposed', 'imposes', 'impossible', 'imposter', 'impotent', 'impracticable', 'impregnanting', 'impregnated', 'impregnating', 'impress', 'impressed', 'impression', 'improper', 'improperly', 'improve', 'imprtant', 'impudence', 'impudently', 'impulse', 'impulsive', 'inability', 'inacceptable', 'inadequately', 'inadvertantly', 'inapplicable', 'inappropriate', 'inattention', 'inattentive', 'incautiously', 'incense', 'incest', 'incestuous', 'incident', 'incidents', 'incinerator', 'incise', 'incite', 'incited', 'included', 'including', 'incoherant', 'income', 'incompetence', 'incompetent', 'incomprehension', 'incomprehensive', 'inconsiderate', 'inconsistency', 'inconsistent', 'incontinent', 'incorporation', 'increase', 'increases', 'incredibly', 'incultivated', 'incurable', 'indecent', 'indecision', 'indefinably', 'indefinate', 'indefinite', 'independent', 'indepth', 'india', 'indian', 'indicated', 'indicator', 'indies', 'indifference', 'indifferent', 'indigenous', 'indignant', 'indipendence', 'indira', 'indirectly', 'indiscipline', 'individual', 'indoorhockey', 'indoors', 'indulged', 'industries', 'inevitably', 'infected', 'infection', 'infidelity', 'infinitely', 'inflammation', 'inflated', 'influence', 'influenced', 'influential', 'info', 'inform', 'informal', 'information', 'informed', 'informing', 'infrastucture', 'infringement', 'ingratiating', 'ingratitude', 'inhabitants', 'inhale', 'inherent', 'inherited', 'inhuman', 'inhumanely', 'initially', 'initiation', 'initiative', 'injection', 'injure', 'injured', 'injures', 'injuries', 'injuring', 'injury', 'injustice', 'injustly', 'inlaw', 'inlaws', 'inn', 'inner', 'innertube', 'innocent', 'innocently', 'innuendos', 'inquiry', 'insane', 'insect', 'insecure', 'insecurity', 'insert', 'inserted', 'inside', 'insidiously', 'insignificant', 'insinuates', 'insipid', 'insisted', 'insisting', 'insists', 'inspector', 'inspired', 'inspiring', 'inspite', 'instability', 'instace', 'installed', 'instance', 'instances', 'instant', 'instantly', 'instead', 'institute', 'institution', 'institutions', 'instructed', 'instruction', 'instructions', 'instructior', 'instructor', 'instructors', 'instrument', 'insult', 'insulted', 'insulting', 'insults', 'intact', 'intead', 'integrity', 'intelligent', 'intend', 'intended', 'intending', 'intense', 'intensely', 'intensified', 'intensive', 'intensly', 'intention', 'intentionally', 'intentions', 'inter', 'interaction', 'interceded', 'intercity', 'intercollege', 'intercollegiate', 'intercourse', 'interest', 'interested', 'interesting', 'interests', 'interfere', 'interfered', 'interference', 'interfering', 'interferring', 'interhouse', 'intermingled', 'internal', 'internalised', 'international', 'interpretation', 'interpreted', 'interpreting', 'interrailtrip', 'interrelations', 'interrupt', 'interrupted', 'interrupting', 'intersection', 'interstate', 'interupting', 'interval', 'intervened', 'intervention', 'interview', 'interviewed', 'intimate', 'intimidated', 'intimidating', 'intimity', 'intoduced', 'intolerable', 'intoxicated', 'intransigently', 'introduce', 'introduced', 'introducing', 'introduction', 'intrude', 'intruders', 'invaded', 'invalid', 'invalids', 'invented', 'inventing', 'investigation', 'investigations', 'invitation', 'invite', 'invited', 'inviting', 'involuntarily', 'involved', 'involving', 'iqam', 'iran', 'iranian', 'iron', 'irrational', 'irrelevant', 'irresponsibility', 'irresponsible', 'irreversibility', 'irrevocable', 'irrevocably', 'irritated', 'irritates', 'irritation', 'island', 'isnt', 'isolated', 'issue', 'issues', 'isul', 'italian', 'italy', 'itd', 'item', 'items', 'itthem', 'ive', 'jackolantern', 'jackpot', 'jail', 'jailed', 'jalonens', 'jamming', 'janitor', 'january', 'jar', 'jaw', 'jaya', 'jealous', 'jealousy', 'jeans', 'jeep', 'jelly', 'jerking', 'jersey', 'jest', 'jesus', 'jetty', 'jeweller', 'jewish', 'jianhau', 'jianying', 'jim', 'jimmy', 'job', 'jobs', 'jogging', 'john', 'johnny', 'join', 'joined', 'joining', 'joint', 'joiy', 'joke', 'joked', 'jokes', 'jokingly', 'jolly', 'jones', 'jose', 'journal', 'journalism', 'journals', 'journey', 'joy', 'joyed', 'joyful', 'joyfull', 'joyfully', 'joyous', 'jr', 'jubilee', 'judge', 'judged', 'judgement', 'judgements', 'judges', 'judging', 'judgment', 'judo', 'juice', 'jumbojet', 'jump', 'jumped', 'jumping', 'jumps', 'jungle', 'junior', 'juniors', 'junk', 'jury', 'justification', 'justified', 'justify', 'kabwe', 'kaley', 'kali', 'kamuzu', 'kandala', 'kankaanpss', 'kapenta', 'karapiro', 'karateteacher', 'kasungu', 'keen', 'keep', 'keeping', 'keeps', 'kenya', 'kept', 'kerb', 'kettle', 'key', 'keyed', 'keys', 'kg', 'kicked', 'kicking', 'kid', 'kidding', 'kidnap', 'kidnapped', 'kidney', 'kids', 'kill', 'killed', 'killer', 'killing', 'kilo', 'kilometers', 'kilometres', 'kind', 'kindergarten', 'kinds', 'king', 'kingdom', 'kiosk', 'kiosque', 'kiss', 'kissed', 'kissing', 'kitchen', 'kitten', 'kittens', 'km', 'kmh', 'knee', 'knees', 'knew', 'knife', 'knives', 'knob', 'knock', 'knocked', 'knocking', 'knots', 'know', 'knowing', 'knowledge', 'knowledgeable', 'known', 'knows', 'kong', 'korea', 'korean', 'koreans', 'kuikka', 'kwacha', 'kwatcha', 'l', 'la', 'labelling', 'laboratory', 'labour', 'lack', 'lacked', 'ladder', 'ladies', 'lady', 'ladylike', 'lake', 'lame', 'lamp', 'lamps', 'land', 'landed', 'landlady', 'landlord', 'landlords', 'landscape', 'lane', 'lanes', 'language', 'lanka', 'lanscape', 'lap', 'lapa', 'lard', 'large', 'largely', 'larger', 'lashed', 'lasr', 'last', 'lasted', 'lasting', 'late', 'lately', 'later', 'latest', 'latimer', 'latin', 'latrine', 'laugh', 'laughed', 'laugher', 'laughing', 'laundry', 'lavatory', 'law', 'lawn', 'lawyer', 'lawyers', 'lay', 'laying', 'layout', 'lazily', 'laziness', 'lazy', 'lead', 'leader', 'leaders', 'leading', 'leadingstrings', 'leaf', 'league', 'leaned', 'leaning', 'learn', 'learned', 'learning', 'learns', 'learnt', 'least', 'leather', 'leave', 'leaved', 'leaves', 'leaving', 'lector', 'lecture', 'lecturer', 'lecturers', 'lectures', 'lecturing', 'led', 'ledge', 'lee', 'left', 'lefthanded', 'leg', 'legal', 'legally', 'legitimately', 'legs', 'lend', 'lent', 'leopard', 'less', 'lesson', 'lessons', 'let', 'lets', 'letter', 'letterbox', 'letters', 'letting', 'lettuce', 'leukemia', 'level', 'levered', 'liberties', 'liberty', 'librarian', 'library', 'lice', 'licence', 'license', 'licensed', 'licking', 'lie', 'lied', 'liers', 'lies', 'life', 'lifejacket', 'lifepartner', 'lifesaving', 'lifestyles', 'lift', 'lifting', 'light', 'lighted', 'lights', 'like', 'liked', 'likelihood', 'likely', 'likes', 'likewise', 'liking', 'lillehammer', 'lilongwe', 'limbe', 'limbs', 'limburgian', 'limitations', 'limited', 'limits', 'limped', 'linden', 'line', 'lines', 'lion', 'lips', 'liquid', 'liquor', 'liquors', 'list', 'listen', 'listened', 'listener', 'listening', 'listless', 'lit', 'literally', 'literature', 'litre', 'litter', 'little', 'live', 'lived', 'liver', 'lives', 'living', 'lizard', 'lizzy', 'lliving', 'load', 'loaf', 'loan', 'loaned', 'loans', 'loathed', 'local', 'locally', 'locals', 'located', 'location', 'lock', 'locked', 'locker', 'locking', 'lodger', 'lodging', 'loft', 'logics', 'loking', 'lollies', 'lolly', 'lonavala', 'london', 'loneliness', 'lonely', 'long', 'longdistance', 'longed', 'longer', 'longlasting', 'longterm', 'longtime', 'loo', 'look', 'looked', 'looking', 'looks', 'loop', 'loose', 'loosing', 'lord', 'lorries', 'lorry', 'los', 'lose', 'losing', 'loss', 'lost', 'lot', 'lots', 'loud', 'loudest', 'loudly', 'lounge', 'lousy', 'louts', 'love', 'loved', 'loveletter', 'lovely', 'lover', 'lovers', 'loves', 'lovesickness', 'loving', 'low', 'lower', 'lowered', 'lowering', 'lowest', 'lowland', 'lp', 'lshs', 'luapula', 'lucas', 'luck', 'luckily', 'lucky', 'luggage', 'lumber', 'lump', 'lumps', 'lunatic', 'lunch', 'lung', 'lungcancer', 'lusaka', 'lusakakabwe', 'lusted', 'luther', 'lying', 'lymph', 'lyrics', 'm', 'ma', 'macaroni', 'machine', 'machines', 'macho', 'mad', 'made', 'madman', 'madrid', 'magazine', 'magazines', 'maggot', 'maggots', 'maggotts', 'magi', 'magic', 'mahjong', 'mai', 'maid', 'mail', 'mailbox', 'maimed', 'main', 'mainland', 'mainly', 'mainroad', 'mainstay', 'maize', 'majong', 'major', 'majority', 'make', 'makes', 'makeup', 'making', 'malaria', 'malawi', 'male', 'males', 'malfunctioning', 'malicious', 'maliciously', 'malipenga', 'malosa', 'maltreated', 'maltreatment', 'mamba', 'man', 'manaage', 'manage', 'managed', 'management', 'manager', 'managers', 'maneuver', 'mange', 'mangere', 'mangle', 'mangled', 'mangochi', 'mangoes', 'mangroves', 'mangwana', 'manhole', 'manifest', 'manipulate', 'manipulation', 'mankind', 'manner', 'manners', 'mannner', 'mans', 'mantlepiece', 'manual', 'manure', 'many', 'maori', 'map', 'maqgda', 'marathon', 'march', 'mards', 'margin', 'maria', 'marijuana', 'marital', 'mark', 'markbooks', 'marked', 'market', 'marking', 'marks', 'marocco', 'marred', 'marriage', 'married', 'marriots', 'marry', 'marrying', 'marshmellows', 'marstrand', 'martin', 'maryhuana', 'marys', 'mask', 'mass', 'massacres', 'massage', 'masseur', 'massive', 'master', 'masterbated', 'masters', 'masturbated', 'masturbating', 'masturbation', 'mat', 'match', 'matches', 'mate', 'mater', 'material', 'materialize', 'materializing', 'materials', 'maternity', 'mates', 'math', 'mathematics', 'maths', 'matter', 'mattered', 'matters', 'mattress', 'maurine', 'maurines', 'mauritania', 'may', 'maybe', 'mce', 'mchesi', 'meadow', 'meal', 'meals', 'mean', 'meanacting', 'meaning', 'meaningless', 'means', 'meant', 'meantime', 'meanwhile', 'measles', 'measure', 'measured', 'measurements', 'meat', 'meblaming', 'mechanic', 'mechanical', 'mechanics', 'mechanism', 'medal', 'medals', 'meddled', 'meddlesomeness', 'meddling', 'media', 'medical', 'medication', 'medications', 'medicine', 'medicines', 'meditation', 'meet', 'meeting', 'meetings', 'meets', 'melancholic', 'melbourne', 'mellon', 'melody', 'melted', 'melting', 'member', 'members', 'memories', 'memory', 'men', 'mended', 'meningitis', 'menstration', 'menstruated', 'menstruation', 'mental', 'mentally', 'mention', 'mentioned', 'mentioning', 'mentor', 'merchandise', 'mercy', 'mere', 'merit', 'merriment', 'meryl', 'mess', 'message', 'messages', 'messed', 'messing', 'messy', 'met', 'metal', 'methodic', 'methods', 'metre', 'metres', 'metric', 'mexican', 'mexico', 'microbiology', 'mid', 'midair', 'middle', 'midnight', 'midterm', 'midterms', 'might', 'migrate', 'mild', 'mile', 'miles', 'military', 'milk', 'milo', 'mimes', 'mimic', 'mimicing', 'miming', 'mind', 'minded', 'minds', 'mine', 'mingled', 'mini', 'minibus', 'mining', 'ministry', 'minor', 'minority', 'minute', 'minutes', 'miracle', 'miracles', 'mirror', 'misbehaved', 'misbehaves', 'misbehaving', 'misbehaviour', 'miscarriage', 'mischieviously', 'misconceived', 'misdemeanour', 'misdiagnoses', 'miserable', 'miserably', 'misery', 'misfortune', 'mishanga', 'misinterpreted', 'misjudged', 'misjudgement', 'misjudging', 'mislead', 'misleaded', 'misled', 'misplacing', 'misrepresented', 'miss', 'missed', 'missiles', 'missing', 'missunderstanding', 'mist', 'mistake', 'mistakes', 'mister', 'mistook', 'mistreated', 'misty', 'misunderstand', 'misunderstanding', 'misunderstands', 'misunderstood', 'misuse', 'misused', 'mith', 'mix', 'mixed', 'mixing', 'mmy', 'mobbed', 'mobbing', 'mock', 'mocked', 'mocking', 'model', 'modelling', 'moderate', 'moderately', 'moderation', 'moist', 'molded', 'molest', 'molested', 'molesting', 'mom', 'moment', 'moments', 'monday', 'money', 'mongu', 'moning', 'monitor', 'monk', 'monopolise', 'monster', 'monsters', 'monstrous', 'month', 'monthe', 'monthend', 'monthly', 'months', 'montrose', 'monze', 'mood', 'moods', 'moon', 'moonie', 'moonlight', 'moral', 'morally', 'moralreligious', 'morals', 'morbid', 'moreover', 'morining', 'morning', 'morocco', 'mororcycle', 'mortal', 'mortars', 'mortuary', 'moscow', 'moss', 'mostly', 'motels', 'mother', 'motherinlaw', 'motherland', 'mothers', 'motion', 'motivated', 'motive', 'motives', 'motor', 'motorbike', 'motorcycle', 'motorcyclistic', 'motorway', 'mountain', 'mountaineering', 'mountains', 'mourning', 'mouth', 'move', 'moved', 'movement', 'movie', 'movies', 'moving', 'mphil', 'mr', 'msc', 'msce', 'mt', 'much', 'mucous', 'mucus', 'mud', 'muddy', 'mugged', 'muldoon', 'mum', 'mummy', 'mummys', 'mums', 'mundane', 'municipal', 'murder', 'murdered', 'murderer', 'murderously', 'murray', 'muscles', 'music', 'musical', 'must', 'mustang', 'mustering', 'muttered', 'mutton', 'mutual', 'mysteriously', 'mystic', 'n', 'na', 'nag', 'nagging', 'nail', 'nails', 'naive', 'naked', 'name', 'named', 'namely', 'names', 'nap', 'naples', 'nappies', 'napping', 'narayan', 'narrow', 'narrowmindedness', 'nasogastric', 'nasty', 'nathenje', 'nation', 'national', 'nationalitycolour', 'nations', 'native', 'natural', 'naturally', 'nature', 'natures', 'naughty', 'nausea', 'nauste', 'nazi', 'nazigermany', 'nb', 'ndola', 'ne', 'near', 'nearaccident', 'nearby', 'nearer', 'nearest', 'nearly', 'neattidy', 'necessary', 'neck', 'necking', 'necrophiliac', 'need', 'needed', 'needing', 'needless', 'needs', 'negative', 'negativei', 'negatively', 'neglect', 'neglected', 'neglecting', 'neglects', 'negligence', 'negro', 'negroes', 'neigbourhood', 'neighbor', 'neighborhood', 'neighbors', 'neighbour', 'neighbouring', 'neighbours', 'neither', 'nephew', 'nephews', 'nerve', 'nerves', 'nervous', 'nervousness', 'nests', 'net', 'netherlands', 'neuropsychology', 'neurotic', 'neutrality', 'never', 'nevertheless', 'neverthless', 'new', 'newcast', 'news', 'newsletter', 'newspaper', 'newspapers', 'newsworthy', 'next', 'nh', 'nicaraguan', 'nice', 'nicely', 'nicer', 'nicholas', 'nickname', 'nicknames', 'niece', 'nieghbour', 'nieghbours', 'niggling', 'night', 'nightmare', 'nightmares', 'nights', 'nightwhen', 'nijmegen', 'nine', 'nineteenth', 'ninth', 'nitht', 'nkhoma', 'nobody', 'nocturnal', 'nodule', 'noise', 'noisemaker', 'noisemakers', 'noises', 'noisily', 'noisy', 'nominated', 'nominees', 'non', 'nonacademic', 'nonchalantly', 'none', 'nonexistent', 'noninjury', 'nonpresent', 'nonrioting', 'nonsens', 'nonsense', 'nonsmoking', 'noon', 'noone', 'normal', 'normally', 'norman', 'norms', 'north', 'northeast', 'northside', 'norvegian', 'norway', 'nose', 'notches', 'note', 'notebook', 'notes', 'nothig', 'nothing', 'notice', 'noticeable', 'noticed', 'noticing', 'notification', 'notified', 'notify', 'notions', 'novel', 'november', 'novices', 'nowhere', 'nsima', 'nuances', 'nucleaar', 'nuclear', 'nudism', 'nudistbeach', 'nuisance', 'number', 'nuns', 'nurse', 'nursed', 'nursery', 'nurses', 'nursing', 'nutrition', 'nuts', 'nz', 'o', 'obedient', 'obey', 'object', 'objected', 'objective', 'objectively', 'objects', 'obligations', 'obligatory', 'obliged', 'obscene', 'observation', 'observe', 'observed', 'observing', 'obstacle', 'obstacles', 'obstinate', 'obstructed', 'obstruction', 'obtain', 'obtained', 'obtaining', 'obvious', 'obviously', 'obviusly', 'occasion', 'occasional', 'occasionally', 'occasions', 'occassion', 'occipital', 'occlusion', 'occupied', 'occupying', 'occur', 'occured', 'occurred', 'occurring', 'occurs', 'oclock', 'october', 'odd', 'odds', 'oesophagus', 'offence', 'offend', 'offended', 'offending', 'offends', 'offensive', 'offer', 'offered', 'offering', 'offers', 'offhand', 'office', 'officer', 'officers', 'offices', 'official', 'officials', 'often', 'ofter', 'oh', 'oil', 'oiled', 'ois', 'oiut', 'ok', 'okay', 'old', 'older', 'oldest', 'oldfashioned', 'olds', 'olli', 'olympic', 'olympics', 'ominous', 'omits', 'omitted', 'onboard', 'oncoming', 'one', 'oneman', 'ones', 'oneself', 'onevery', 'oneway', 'onlyone', 'onto', 'open', 'opened', 'opening', 'openly', 'opera', 'operate', 'operated', 'operation', 'operations', 'opinion', 'opinions', 'opium', 'opportuinty', 'opportunities', 'opportunity', 'oppose', 'opposed', 'opposing', 'opposite', 'opposum', 'oppressed', 'oppressing', 'oppressive', 'opt', 'opted', 'oral', 'orally', 'orchestra', 'ordeal', 'order', 'ordered', 'orderly', 'orders', 'ordinance', 'ordinary', 'organic', 'organisation', 'organise', 'organising', 'organist', 'organization', 'organize', 'organized', 'organizers', 'orientation', 'original', 'originally', 'orphaned', 'others', 'otherwise', 'ought', 'outdated', 'outdoor', 'outdoors', 'outer', 'outing', 'outlandish', 'outlook', 'outoftheway', 'outpatient', 'outrageous', 'outs', 'outset', 'outside', 'outskirts', 'outward', 'oven', 'overall', 'overate', 'overboard', 'overcame', 'overcome', 'overcooked', 'overcrowding', 'overdosed', 'overdue', 'overeating', 'overestimating', 'overexcited', 'overflowed', 'overflows', 'overhastingly', 'overhear', 'overheard', 'overindulged', 'overjoyed', 'overload', 'overnight', 'overpowering', 'overprotecting', 'overreact', 'overreacted', 'overseas', 'oversee', 'overshadowing', 'overstrained', 'overt', 'overtake', 'overtaking', 'overtime', 'overtook', 'overtures', 'overturn', 'overturned', 'overweight', 'overwhelmed', 'overwhelming', 'overwhelms', 'owed', 'owned', 'owner', 'owning', 'oxygen', 'p', 'pa', 'pacience', 'pack', 'package', 'packed', 'packet', 'packets', 'pact', 'paddling', 'paddock', 'paddy', 'paedophiliac', 'page', 'pages', 'paid', 'pain', 'painful', 'painfully', 'pains', 'paint', 'painting', 'pair', 'paired', 'pakeha', 'pakehas', 'pal', 'pals', 'palsy', 'pan', 'pane', 'panel', 'panhandling', 'panic', 'panicked', 'panicking', 'panicky', 'pans', 'panted', 'panties', 'pantry', 'pants', 'paper', 'papers', 'papua', 'paralysed', 'paralysing', 'paralyzed', 'paramilitary', 'paranoia', 'paranoid', 'paranormal', 'paraplegia', 'parapsychology', 'parcel', 'parent', 'parents', 'parentsfriends', 'parentsinlaw', 'parentswishes', 'parets', 'parfume', 'parity', 'park', 'parked', 'parking', 'parliament', 'parson', 'part', 'parted', 'partial', 'partiality', 'partially', 'participants', 'participate', 'participated', 'participating', 'participation', 'particular', 'particularly', 'parties', 'parting', 'partion', 'partly', 'partner', 'partners', 'parts', 'parttime', 'party', 'partying', 'pass', 'passage', 'passed', 'passenger', 'passengers', 'passerby', 'passing', 'passionate', 'passport', 'passsed', 'past', 'paste', 'pastry', 'pat', 'paternal', 'path', 'patience', 'patient', 'patients', 'patrols', 'patrons', 'patting', 'paulist', 'pavement', 'pawpaw', 'pawpaws', 'pay', 'payed', 'paying', 'payment', 'pays', 'pe', 'peace', 'pear', 'pectoral', 'peculiar', 'pedestrian', 'pedestrians', 'pedology', 'peeing', 'peeling', 'peep', 'peeped', 'peeping', 'peer', 'peers', 'pelvis', 'pen', 'pencil', 'pending', 'penetration', 'penis', 'penitent', 'pens', 'pensioned', 'pensions', 'penthouse', 'penury', 'peolpe', 'people', 'peoplepress', 'peoples', 'peptalk', 'per', 'percentage', 'perception', 'pereson', 'perfect', 'perfectly', 'perfomance', 'perform', 'performance', 'performed', 'performing', 'perhaps', 'period', 'periods', 'perished', 'permanent', 'permanently', 'permission', 'permisssion', 'permit', 'permitted', 'perosn', 'persisted', 'person', 'personal', 'personality', 'personally', 'personnel', 'personperson', 'persons', 'persoon', 'perspective', 'perspiring', 'persuade', 'pertaining', 'perturbation', 'pesent', 'pessimistic', 'pet', 'petrified', 'petrol', 'pettiness', 'petting', 'pettyminded', 'pews', 'phantasies', 'phantastic', 'pharmacology', 'pharmacy', 'phase', 'phenomena', 'philistinism', 'phillipines', 'phlegm', 'phone', 'phonecalls', 'phoned', 'phoning', 'photocopies', 'photograph', 'photographer', 'photographs', 'photos', 'phrase', 'physical', 'physically', 'physician', 'physics', 'physiology', 'physiotherapy', 'piano', 'piblic', 'pick', 'picked', 'picking', 'pickpockets', 'pickup', 'picnic', 'picture', 'pictured', 'pictures', 'piece', 'pieces', 'pig', 'pigging', 'piggy', 'pigs', 'pile', 'piled', 'pilfering', 'pill', 'pillar', 'pillow', 'pills', 'pilot', 'pinch', 'pinched', 'pink', 'pipes', 'pissed', 'pissing', 'pit', 'pitch', 'pithched', 'pitied', 'pitlatrine', 'pity', 'pizza', 'place', 'placed', 'placenta', 'places', 'placing', 'plain', 'plaing', 'plan', 'plane', 'planet', 'planned', 'planning', 'plans', 'plant', 'plants', 'plastic', 'plate', 'plates', 'platform', 'play', 'played', 'player', 'playground', 'playing', 'playmates', 'plays', 'plead', 'pleas', 'pleasant', 'please', 'pleased', 'pleases', 'pleasure', 'pleasures', 'plight', 'plot', 'plovdivbourgas', 'plowing', 'plucked', 'plug', 'plumber', 'plus', 'plychology', 'pm', 'pocket', 'pockets', 'poem', 'point', 'pointed', 'pointless', 'points', 'poisoned', 'poisonous', 'poked', 'poker', 'polar', 'polder', 'polders', 'pole', 'police', 'policeman', 'policemen', 'policy', 'polish', 'polite', 'political', 'politicians', 'politics', 'pollute', 'pollution', 'poltergist', 'polynesian', 'polythecnic', 'pooh', 'pool', 'poona', 'poor', 'poorer', 'poorest', 'poorly', 'pop', 'popcorn', 'popidol', 'popped', 'porcelain', 'porch', 'porno', 'pornographic', 'pornography', 'pose', 'posed', 'position', 'positive', 'positively', 'positiveness', 'possessed', 'possessions', 'possessive', 'possibility', 'possible', 'possibly', 'post', 'postcard', 'postgraduate', 'postponed', 'pot', 'potatoes', 'potential', 'potentiality', 'potty', 'pouch', 'pour', 'poured', 'pouring', 'poverty', 'power', 'powerful', 'powerless', 'powerlessness', 'powers', 'practical', 'practically', 'practicals', 'practice', 'practices', 'practioners', 'practise', 'practised', 'practitioners', 'pradesh', 'praised', 'praising', 'prakash', 'prayed', 'preached', 'prearranged', 'precarious', 'precious', 'precipice', 'precise', 'preclinical', 'predictable', 'predicting', 'preenrollment', 'prefect', 'prefects', 'prefer', 'preferred', 'preferring', 'pregiudice', 'pregnancy', 'pregnant', 'prejudice', 'prejudiced', 'prejudices', 'prekindergarten', 'preliminary', 'premature', 'premises', 'preparation', 'preparations', 'preparatory', 'prepare', 'prepared', 'preparing', 'prepccupy', 'prescence', 'prescribed', 'prescription', 'presence', 'present', 'presentation', 'presented', 'presenting', 'presents', 'preserve', 'preserved', 'preset', 'president', 'preson', 'pressing', 'pressure', 'pressures', 'presumed', 'pretended', 'pretending', 'pretentious', 'pretty', 'preuniversity', 'prevailed', 'prevent', 'prevented', 'previous', 'previously', 'price', 'pricipal', 'pride', 'priest', 'primary', 'primaryschool', 'primeminister', 'prince', 'principal', 'principals', 'principles', 'prior', 'priority', 'prison', 'prisoners', 'prisons', 'private', 'priviledge', 'privileged', 'prize', 'prizecompetition', 'probably', 'probaly', 'probation', 'probatory', 'problem', 'problems', 'proceded', 'procedure', 'proceed', 'proceeded', 'proceeding', 'process', 'processed', 'procession', 'procrastinated', 'procure', 'produce', 'produced', 'productivity', 'profession', 'professional', 'professor', 'professors', 'profit', 'profits', 'profound', 'program', 'programme', 'programmes', 'progress', 'progressing', 'prohibited', 'prohibition', 'project', 'projected', 'projects', 'prolonged', 'promise', 'promised', 'promises', 'promising', 'promoted', 'promotion', 'prompt', 'proof', 'proper', 'properly', 'property', 'proportions', 'proposal', 'propose', 'proposed', 'prospects', 'prosperity', 'prostitute', 'prostitutes', 'protect', 'protected', 'protectiveness', 'protegts', 'protest', 'protester', 'protesting', 'protruding', 'proud', 'prove', 'proved', 'proves', 'provide', 'provided', 'provocation', 'provoke', 'provoked', 'prpare', 'prudential', 'pry', 'psalm', 'psalms', 'psych', 'psychiatric', 'psychical', 'psycho', 'psychological', 'psychologically', 'psychologist', 'psychology', 'psychotherapist', 'pt', 'pts', 'pub', 'puberty', 'public', 'publically', 'publicaly', 'publication', 'publicly', 'published', 'puc', 'pudding', 'puddle', 'pulled', 'pulling', 'pullover', 'pullovers', 'pulp', 'pulsing', 'pumped', 'punch', 'punched', 'punching', 'puncture', 'puncturing', 'punish', 'punished', 'punishing', 'punishment', 'punjab', 'punkgirls', 'pupil', 'pupils', 'puppies', 'puppy', 'purchase', 'pure', 'purely', 'purest', 'purified', 'purpose', 'purposeful', 'purposely', 'purposes', 'purse', 'pursue', 'pursued', 'pursuing', 'push', 'pushbike', 'pushed', 'pushing', 'put', 'putridness', 'putrification', 'puts', 'putting', 'puzzle', 'pvc', 'py', 'python', 'qland', 'quadruple', 'qualified', 'qualify', 'qualifying', 'quality', 'quarelled', 'quarelling', 'quarrel', 'quarreled', 'quarreling', 'quarrelled', 'quarrelling', 'quarrels', 'quarter', 'queen', 'queensland', 'queer', 'queii', 'query', 'question', 'questionable', 'questionaire', 'questioned', 'questioning', 'questionnaire', 'questionned', 'questions', 'quetions', 'queue', 'queuing', 'quick', 'quicker', 'quickly', 'quiet', 'quietest', 'quietness', 'quite', 'quitted', 'quota', 'rabbit', 'rabbits', 'rabid', 'race', 'racial', 'racially', 'racing', 'racism', 'racist', 'rack', 'racket', 'radiator', 'radio', 'radiotv', 'raflected', 'rage', 'raggy', 'raging', 'rags', 'raided', 'raids', 'rail', 'railing', 'railway', 'railways', 'rain', 'raincoat', 'rained', 'raining', 'rainy', 'raio', 'raise', 'raised', 'raising', 'rally', 'rampant', 'ran', 'randomly', 'rang', 'range', 'ranger', 'rangers', 'rank', 'ranking', 'ranks', 'rape', 'raped', 'rapes', 'rapidly', 'raping', 'rare', 'rarely', 'rat', 'rate', 'rathe', 'rather', 'rating', 'rationalize', 'rats', 'rattled', 'rattling', 'rave', 'raw', 'ray', 'reach', 'reachad', 'reached', 'reaches', 'reaching', 'react', 'reacted', 'reaction', 'reactions', 'read', 'readily', 'reading', 'ready', 'reagan', 'reagans', 'real', 'realise', 'realised', 'realising', 'realistic', 'realistically', 'reality', 'realize', 'realized', 'realizes', 'realizing', 'really', 'rear', 'reared', 'rearranged', 'reason', 'reasonable', 'reasons', 'reassurances', 'rebate', 'rebuff', 'rebuked', 'recagnize', 'recall', 'receive', 'received', 'receiver', 'receiving', 'recent', 'recently', 'recentlycompleted', 'reception', 'reciprocal', 'reciprocated', 'recite', 'recluse', 'recognition', 'recognize', 'recognized', 'recommend', 'recommendation', 'reconcile', 'reconciled', 'reconciliation', 'reconnected', 'record', 'records', 'recover', 'recovered', 'recovering', 'recreational', 'recurrent', 'red', 'redcheeked', 'redemption', 'redemptist', 'redhaded', 'redhanded', 'redtape', 'redtapism', 'reduce', 'reduced', 'reef', 'reel', 'ref', 'refectory', 'refer', 'referance', 'referee', 'referees', 'reference', 'references', 'refilling', 'reflect', 'reflected', 'reflection', 'reflects', 'reform', 'refree', 'refrigerator', 'refugees', 'refusal', 'refuse', 'refused', 'refusingly', 'regard', 'regarded', 'regardless', 'regatta', 'region', 'regional', 'regions', 'register', 'registered', 'registration', 'registry', 'regret', 'regreted', 'regrets', 'regretted', 'regular', 'regularly', 'regulation', 'regulations', 'rehabilitation', 'rehearsal', 'reigning', 'reinforcement', 'rejected', 'rejecting', 'rejection', 'rejoiced', 'rejoin', 'rejoining', 'rejoyced', 'rejoycing', 'relate', 'related', 'relates', 'relating', 'relation', 'relations', 'relationship', 'relationships', 'relationshop', 'relatioship', 'relative', 'relatively', 'relatives', 'relativess', 'relax', 'relaxed', 'relaxing', 'relay', 'release', 'released', 'reliable', 'relief', 'relieve', 'relieved', 'religion', 'religious', 'relish', 'reluctance', 'reluctant', 'reluctantly', 'rely', 'remain', 'remained', 'remaining', 'remains', 'remark', 'remarkably', 'remarked', 'remarks', 'remember', 'remembered', 'remembering', 'remind', 'reminded', 'remindes', 'reminding', 'reminiscent', 'reminiscing', 'remote', 'removable', 'removal', 'removed', 'remuera', 'renewed', 'renounce', 'rent', 'rented', 'rents', 'reoccurring', 'repainting', 'repair', 'repaired', 'repairing', 'repayed', 'repeat', 'repeated', 'repeatedly', 'repeating', 'reperbahn', 'replace', 'replaced', 'replied', 'reply', 'replying', 'report', 'reported', 'reports', 'reprehended', 'represent', 'representation', 'repress', 'repression', 'reprimand', 'reprimanded', 'reprimands', 'reproached', 'reproval', 'reproved', 'repulsive', 'request', 'requested', 'requests', 'require', 'required', 'requirements', 'research', 'resentment', 'reserved', 'residence', 'residental', 'residing', 'resign', 'resigned', 'resist', 'resistance', 'resisting', 'resolution', 'resolve', 'resolved', 'resort', 'resources', 'respect', 'respected', 'respiration', 'respond', 'responding', 'response', 'responses', 'responsibilities', 'responsibility', 'responsible', 'responsibly', 'resprcting', 'ressembled', 'rest', 'restaurant', 'restless', 'restlessness', 'restored', 'restrict', 'restricted', 'restrictions', 'resullt', 'result', 'resultant', 'resulted', 'resulting', 'results', 'resume', 'retention', 'retire', 'retired', 'retirement', 'return', 'returned', 'returning', 'reunion', 'reunited', 'revealed', 'revealing', 'revenge', 'reverse', 'revolting', 'revolution', 'revolve', 'revultion', 'rewarded', 'rhodesia', 'rhodesian', 'rice', 'rich', 'rid', 'ridden', 'ride', 'riders', 'ridicule', 'ridiculed', 'ridiculing', 'ridiculous', 'riding', 'rift', 'right', 'rightfully', 'rights', 'rigid', 'rikshaw', 'ring', 'ringing', 'rings', 'riot', 'rioting', 'rip', 'rising', 'risk', 'risky', 'river', 'roach', 'roaches', 'road', 'roadblock', 'roads', 'roadside', 'roadway', 'roaming', 'roar', 'roast', 'roasting', 'rob', 'robbed', 'robber', 'robberies', 'robbers', 'robbery', 'robert', 'roche', 'rock', 'rockclimbing', 'rockers', 'rocks', 'rode', 'roe', 'rogue', 'role', 'roll', 'rollcall', 'rolled', 'roller', 'rolling', 'rolls', 'roman', 'romance', 'romantic', 'roof', 'room', 'roomies', 'roommate', 'roommates', 'rooms', 'rope', 'rose', 'rosebush', 'roster', 'rotateed', 'rotten', 'rotterdam', 'rough', 'roughly', 'roughnecks', 'roulette', 'round', 'roundabout', 'roused', 'route', 'row', 'rowing', 'rs', 'rubbish', 'rucher', 'rude', 'rudely', 'rudeness', 'rudness', 'ruffians', 'rugby', 'rugs', 'ruined', 'ruining', 'rules', 'rum', 'rumba', 'rumour', 'rumours', 'run', 'runaround', 'runebergs', 'running', 'runout', 'runs', 'runway', 'rupture', 'rush', 'rushed', 'rushhour', 'rushing', 'russian', 'russians', 'rustling', 'rusty', 'sa', 'sacrifice', 'sad', 'saddened', 'saddest', 'saddned', 'sadist', 'sadistic', 'sadistinc', 'sadness', 'sadnessunpleasantness', 'safe', 'safely', 'safety', 'sagged', 'said', 'sailing', 'sailors', 'sake', 'salary', 'sales', 'salesperson', 'saleswoman', 'salt', 'salvador', 'salvation', 'sam', 'sametime', 'samples', 'san', 'sanctioned', 'sand', 'sang', 'sank', 'santander', 'sarcasm', 'sarcastic', 'sartre', 'sat', 'satan', 'satanic', 'satified', 'satisfaction', 'satisfactorily', 'satisfactory', 'satisfied', 'satisfy', 'saturday', 'sauce', 'saucer', 'sauna', 'sausage', 'savagery', 'save', 'saved', 'saviour', 'saw', 'say', 'saying', 'says', 'scale', 'scales', 'scandal', 'scar', 'scare', 'scared', 'scaring', 'scars', 'scary', 'scattered', 'scene', 'scenery', 'scenes', 'schhol', 'schizophrenic', 'scholarship', 'scholer', 'school', 'schoolar', 'schoolfriend', 'schoolgirl', 'schoolmate', 'schoolmates', 'schools', 'schoolwork', 'schure', 'science', 'scienced', 'sciences', 'scientists', 'scissors', 'scleral', 'scoared', 'scold', 'scolded', 'scolding', 'scolds', 'scooter', 'scope', 'score', 'scored', 'scoring', 'scottish', 'scoundrel', 'scout', 'scouting', 'scraped', 'scrapped', 'scraps', 'scream', 'screamed', 'screaming', 'screams', 'screen', 'screwing', 'scrub', 'scrubber', 'scruples', 'scrupulous', 'scuffle', 'se', 'sea', 'seagulls', 'seal', 'sealhunters', 'seals', 'search', 'searching', 'seargents', 'seas', 'seaside', 'season', 'seasonal', 'seat', 'seated', 'seats', 'sec', 'secluded', 'secodary', 'second', 'secondary', 'seconds', 'secret', 'secretary', 'secretions', 'secretly', 'secrets', 'sect', 'sectarian', 'section', 'secure', 'security', 'see', 'seeing', 'seek', 'seem', 'seemad', 'seemed', 'seems', 'seen', 'seep', 'seesaw', 'seing', 'seized', 'seizure', 'sek', 'seldom', 'selected', 'selection', 'self', 'selfassured', 'selfblaming', 'selfcentered', 'selfconfidence', 'selfcontrol', 'selfdiscipline', 'selfesteem', 'selfinitiative', 'selfinsight', 'selfish', 'selfishly', 'selfishness', 'selfpity', 'sell', 'seller', 'selling', 'semester', 'semesters', 'seminar', 'seminaries', 'senate', 'send', 'sending', 'senility', 'senior', 'seniors', 'sensation', 'sense', 'sensed', 'sensible', 'sensing', 'sensitive', 'sent', 'sentence', 'sentences', 'sentimental', 'sentiments', 'separate', 'separated', 'separating', 'separation', 'separetely', 'separted', 'seperated', 'september', 'septic', 'sergeant', 'serial', 'series', 'seriors', 'serious', 'seriously', 'seriousness', 'servant', 'serve', 'served', 'service', 'services', 'serving', 'session', 'sessions', 'set', 'setbacks', 'settle', 'settled', 'settlement', 'settlers', 'sevely', 'seven', 'seventeen', 'several', 'severe', 'severely', 'severl', 'sevice', 'sewer', 'sex', 'sexistly', 'sexual', 'sexually', 'sgts', 'shabby', 'shadows', 'shaft', 'shake', 'shaked', 'shaken', 'shaking', 'shall', 'shame', 'shamed', 'shameful', 'shameless', 'shape', 'shaped', 'share', 'shared', 'shares', 'sharing', 'sharks', 'sharp', 'sharply', 'shed', 'sheen', 'sheer', 'sheet', 'sheets', 'shells', 'shelter', 'shepherd', 'shift', 'shifted', 'shillings', 'shima', 'shining', 'shiny', 'ship', 'shirked', 'shirt', 'shit', 'shock', 'shocked', 'shocking', 'shoe', 'shoes', 'shook', 'shoot', 'shooting', 'shop', 'shopassistant', 'shopkeeper', 'shoplifted', 'shoplifting', 'shopping', 'shore', 'short', 'shortcomings', 'shortcut', 'shorter', 'shot', 'shotgun', 'shots', 'shoulder', 'shoulders', 'shouldnt', 'shout', 'shouted', 'shouting', 'shouts', 'shovel', 'shoves', 'show', 'showed', 'shower', 'showered', 'showing', 'showjumping', 'shown', 'shows', 'shut', 'shy', 'shyness', 'siblings', 'sicilia', 'sick', 'sickly', 'sickness', 'side', 'sided', 'sideissues', 'sides', 'sight', 'sightseeing', 'sign', 'signature', 'signed', 'significance', 'significant', 'signs', 'silence', 'silent', 'silly', 'silver', 'similar', 'similarly', 'simple', 'simply', 'sin', 'since', 'sincere', 'sincerely', 'sincerity', 'sinful', 'sing', 'singer', 'singers', 'singing', 'singinglesson', 'single', 'sink', 'sinking', 'sisiter', 'sister', 'sisterinlaw', 'sisterinlaws', 'sisters', 'sit', 'site', 'sits', 'sitting', 'situaiton', 'situated', 'situation', 'situational', 'situations', 'siucide', 'six', 'sixteen', 'sixth', 'size', 'skates', 'skating', 'sketch', 'ski', 'skid', 'skidded', 'skidrow', 'skiers', 'skiing', 'skijump', 'skijumping', 'skilfully', 'skin', 'skins', 'skipped', 'skirace', 'skirt', 'skis', 'skitrip', 'skull', 'skunk', 'sky', 'slaghter', 'slakers', 'slammed', 'slandered', 'slanderers', 'slap', 'slapped', 'slaps', 'slash', 'slashed', 'slaughter', 'slaughtered', 'slaughterhouse', 'slaughtering', 'sleep', 'sleeping', 'sleepless', 'sleeps', 'sleepy', 'sleetstorm', 'sleeves', 'slept', 'slided', 'sliding', 'slight', 'slightest', 'slightly', 'slighty', 'slime', 'slimily', 'slimy', 'slip', 'slipped', 'slipperiness', 'slippery', 'slipping', 'slit', 'slogans', 'slope', 'slopeit', 'sloping', 'sloppiness', 'sloven', 'slow', 'slowing', 'slowly', 'slowworm', 'slurs', 'slut', 'smacking', 'small', 'smaller', 'smart', 'smash', 'smashed', 'smeared', 'smell', 'smelled', 'smelling', 'smile', 'smiles', 'smoke', 'smoked', 'smoking', 'smoknig', 'smooched', 'smooth', 'smoothly', 'smouldering', 'snack', 'snackbar', 'snacks', 'snake', 'snakes', 'snap', 'snapped', 'snaps', 'snarling', 'snatched', 'sneaked', 'sneaking', 'sneakly', 'sniffing', 'snob', 'snot', 'snout', 'snow', 'snowcovered', 'snowed', 'snowfall', 'snowstorm', 'soap', 'sober', 'socalled', 'soccer', 'soche', 'social', 'socialist', 'society', 'sociolinguistic', 'sociology', 'soembody', 'soemone', 'sofa', 'sofia', 'soft', 'soil', 'soiled', 'soiling', 'sold', 'soldier', 'soldiers', 'sole', 'solicited', 'solist', 'solo', 'soloparent', 'solution', 'solve', 'solved', 'somathing', 'someboby', 'somebody', 'somebodys', 'someeone', 'somehow', 'someone', 'someones', 'someonne', 'somersaulted', 'something', 'sometime', 'sometimes', 'someting', 'somewhat', 'somewhere', 'son', 'song', 'songs', 'sons', 'soon', 'sooner', 'sophomore', 'soporification', 'sopposed', 'soppy', 'sore', 'sores', 'sorority', 'sororoty', 'sorrow', 'sorrows', 'sorry', 'sort', 'sorting', 'sorts', 'sought', 'soul', 'sound', 'sounded', 'sounds', 'soup', 'sour', 'source', 'sources', 'souteneur', 'south', 'southern', 'southside', 'soweto', 'space', 'spaghetti', 'spain', 'span', 'spanish', 'spank', 'spanked', 'spanks', 'spare', 'spat', 'spate', 'spaulo', 'speak', 'speaker', 'speaking', 'special', 'specialist', 'specialization', 'specially', 'specific', 'specifically', 'specifying', 'specimen', 'spectacles', 'spectators', 'sped', 'speech', 'speed', 'speeding', 'spell', 'spelling', 'spend', 'spending', 'spent', 'spider', 'spiders', 'spied', 'spilled', 'spinach', 'spinal', 'spirit', 'spiritism', 'spirits', 'spiritual', 'spiritually', 'spit', 'spite', 'spiteful', 'spitoon', 'spits', 'spitting', 'spittle', 'splashed', 'split', 'spluttered', 'spoil', 'spoiled', 'spoils', 'spoilt', 'spoke', 'spoken', 'spokesman', 'sponsor', 'spontaneous', 'spontaneously', 'spoons', 'sport', 'sports', 'sportshall', 'spot', 'spotlights', 'spots', 'spotted', 'spouse', 'spread', 'spreading', 'spring', 'springboard', 'springs', 'sproul', 'spun', 'squadron', 'squandered', 'square', 'squaw', 'squeaks', 'squeezed', 'squirrel', 'sr', 'sri', 'ssc', 'st', 'stab', 'stabbed', 'stable', 'stack', 'stadium', 'staff', 'staffs', 'stage', 'staged', 'stagnant', 'stained', 'stains', 'staircase', 'stairs', 'stairway', 'stake', 'stallion', 'stammered', 'stamps', 'stand', 'standard', 'standards', 'standing', 'stank', 'stapbank', 'star', 'stare', 'stared', 'stares', 'staring', 'stars', 'start', 'started', 'starteed', 'starting', 'startled', 'starts', 'startwar', 'starvation', 'starving', 'state', 'stated', 'statement', 'statements', 'states', 'stating', 'station', 'stationed', 'stationery', 'stationhall', 'stationmistress', 'stations', 'statistics', 'statue', 'status', 'stay', 'stayed', 'staying', 'stays', 'steady', 'steak', 'steal', 'stealing', 'steep', 'steer', 'steered', 'steet', 'stepbrothers', 'stepdad', 'stepfather', 'stepmother', 'stepped', 'stepping', 'steps', 'stereo', 'stick', 'sticken', 'sticking', 'sticks', 'stict', 'stiff', 'stigma', 'stiiborn', 'still', 'stillbirth', 'stinking', 'stinky', 'stirred', 'stirrers', 'stirring', 'stitches', 'stockholm', 'stole', 'stolen', 'stomach', 'stomaches', 'stone', 'stoned', 'stones', 'stong', 'stood', 'stools', 'stop', 'stopped', 'stopping', 'stops', 'stora', 'store', 'stories', 'storm', 'stormed', 'story', 'stove', 'straight', 'stranded', 'strange', 'strangely', 'stranger', 'strangers', 'strapping', 'stray', 'stream', 'streep', 'street', 'streets', 'strength', 'stress', 'stretched', 'stricken', 'strict', 'strictly', 'strictness', 'strike', 'strikers', 'striking', 'string', 'strived', 'striven', 'stroke', 'stroked', 'stroll', 'strolling', 'strong', 'stronger', 'strongest', 'strongly', 'struck', 'structure', 'struggle', 'struggles', 'struggling', 'stubborn', 'stuck', 'studennts', 'student', 'studenthouse', 'studentlike', 'students', 'studets', 'studied', 'studies', 'study', 'studyied', 'studying', 'stuff', 'stupid', 'stupidity', 'stupidly', 'stuttering', 'style', 'subject', 'subjected', 'subjectively', 'subjects', 'subjugated', 'submarine', 'submerged', 'submitted', 'subordinate', 'subordinates', 'subquestions', 'subscribed', 'subsequent', 'subsequently', 'substance', 'substituted', 'subtle', 'suburb', 'suburban', 'subversive', 'subway', 'succeded', 'succeed', 'succeeded', 'succeeding', 'success', 'successful', 'successfully', 'successive', 'succumb', 'sucessful', 'suck', 'sucking', 'sudden', 'suddenly', 'sudying', 'sue', 'suffer', 'suffered', 'suffering', 'suffernig', 'suffers', 'sufficient', 'sufficiently', 'suffocated', 'suffocating', 'sugar', 'sugarcanes', 'suggested', 'suggesting', 'suggestion', 'suggestions', 'suicide', 'suit', 'suitable', 'suited', 'suits', 'sulking', 'sum', 'summed', 'summer', 'summers', 'summon', 'summoned', 'sun', 'sunday', 'sundry', 'sung', 'sunlight', 'sunned', 'sunny', 'sunset', 'sunsets', 'sunshine', 'super', 'superior', 'superiors', 'supermarket', 'supernatural', 'supervise', 'superviser', 'supervision', 'supervisor', 'supper', 'supplementary', 'supplies', 'supply', 'support', 'supporting', 'supportive', 'suppose', 'supposed', 'supposedly', 'suppressed', 'suprise', 'sure', 'surf', 'surface', 'surfing', 'surfinusa', 'surgeon', 'surgery', 'surgical', 'surplus', 'surprise', 'surprised', 'surrender', 'surrogate', 'surrounded', 'surroundings', 'survey', 'survival', 'survive', 'survived', 'suspect', 'suspected', 'suspense', 'suspicion', 'suspicious', 'sustained', 'sutuations', 'suturing', 'suvenir', 'suvenirs', 'swallowing', 'swam', 'swearing', 'sweatheart', 'sweden', 'swedens', 'swedish', 'sweet', 'sweetheart', 'sweets', 'swell', 'swelling', 'swept', 'swerve', 'swerved', 'swerving', 'swifty', 'swim', 'swimming', 'swimmingpool', 'swindle', 'swindled', 'swing', 'swiss', 'switch', 'switchboard', 'switched', 'swollen', 'sybajaj', 'sydney', 'syjc', 'sympathetic', 'sympathy', 'symphony', 'synchronicaly', 'syndrome', 'syphilis', 'syphilitic', 'system', 'systems', 'ta', 'table', 'tables', 'tablets', 'tackels', 'tackle', 'tactical', 'tactlessly', 'tage', 'tai', 'tail', 'tailor', 'take', 'taken', 'takeoff', 'takes', 'taking', 'tale', 'talk', 'talkative', 'talked', 'talkiing', 'talking', 'talks', 'tampering', 'tampon', 'tank', 'tanzania', 'tap', 'tape', 'tapes', 'tapped', 'target', 'tarmac', 'tarts', 'tas', 'task', 'tasks', 'taste', 'tatooed', 'taught', 'tax', 'taxes', 'taxi', 'tb', 'tchaikovsdys', 'te', 'tea', 'teach', 'teacher', 'teacherparent', 'teachers', 'teaching', 'team', 'teammate', 'teams', 'tear', 'tearing', 'tears', 'tease', 'teased', 'teasing', 'techniques', 'teen', 'teenage', 'teenager', 'teeth', 'telegram', 'telegraph', 'telephone', 'telephoned', 'telephoning', 'television', 'teling', 'tell', 'telling', 'tells', 'temper', 'temperaments', 'tempered', 'temple', 'temporary', 'temptation', 'ten', 'tenants', 'tend', 'tended', 'tender', 'tennis', 'tennisclub', 'tense', 'tensely', 'tension', 'tent', 'tenyearold', 'ter', 'term', 'terminal', 'terminally', 'terminate', 'termination', 'terms', 'terrace', 'terrfying', 'terrible', 'terribly', 'terrific', 'terrified', 'terrifying', 'terror', 'tertiary', 'test', 'testing', 'tests', 'tetanus', 'texas', 'text', 'textbook', 'thank', 'thanked', 'thankful', 'thanking', 'thanks', 'thankyou', 'thatched', 'thats', 'thaws', 'thay', 'theatre', 'theft', 'thefts', 'theme', 'theoretical', 'theory', 'ther', 'therapy', 'thereafter', 'thereby', 'therefor', 'therefore', 'thermos', 'thesis', 'theyd', 'theyll', 'theyre', 'theyve', 'thhe', 'thick', 'thief', 'thier', 'thieves', 'thin', 'thing', 'things', 'think', 'thinking', 'thinks', 'third', 'thirsty', 'thirteen', 'thirty', 'tho', 'thorns', 'thoroughfare', 'thoroughly', 'though', 'thought', 'thoughtless', 'thoughtlessness', 'thoughts', 'thourgh', 'thousand', 'thouth', 'thrashed', 'thrashes', 'thrashing', 'thre', 'threads', 'threat', 'threated', 'threaten', 'threatened', 'threatening', 'threateningly', 'threatens', 'threats', 'three', 'threw', 'thrilled', 'throat', 'throughout', 'throusers', 'throw', 'throwing', 'thrown', 'thrushing', 'thrust', 'thugs', 'thumb', 'thunder', 'thursday', 'thus', 'thwarted', 'ticket', 'ticketcollector', 'tickets', 'tidied', 'tidy', 'tied', 'ties', 'tight', 'tightly', 'tile', 'tiles', 'till', 'time', 'times', 'timid', 'tin', 'tiny', 'tire', 'tired', 'tiredness', 'tires', 'tiresome', 'tiring', 'tiss', 'title', 'toad', 'toadies', 'toasted', 'tobacco', 'today', 'toddler', 'toefel', 'togehter', 'together', 'togs', 'toild', 'toilet', 'token', 'told', 'tolerate', 'tolman', 'tom', 'tome', 'tomorrow', 'tone', 'tongue', 'tongues', 'tonguetied', 'tonight', 'tonsils', 'took', 'tooth', 'toothpaste', 'tooting', 'top', 'topic', 'topped', 'toppers', 'torch', 'torches', 'tore', 'torn', 'torture', 'tortures', 'torturing', 'total', 'totalled', 'totally', 'tottering', 'touch', 'touched', 'touching', 'tought', 'tour', 'touring', 'tournament', 'toward', 'towards', 'towed', 'towel', 'town', 'towns', 'toy', 'toys', 'trace', 'track', 'tracks', 'trackteam', 'tractor', 'tradeentrance', 'traditional', 'traditionally', 'traditions', 'traffic', 'trafic', 'tragically', 'trailer', 'train', 'trained', 'trainee', 'training', 'trains', 'traits', 'tram', 'tramping', 'trample', 'trampled', 'tramwaycarriage', 'transfer', 'transferred', 'transfusion', 'transgressed', 'transgressions', 'transit', 'translation', 'translator', 'transmitted', 'transparent', 'transport', 'transtasman', 'trashed', 'traumatic', 'travel', 'traveling', 'travelled', 'travelling', 'tray', 'traying', 'treat', 'treated', 'treating', 'treatment', 'treats', 'tree', 'trees', 'tremble', 'trembled', 'trembling', 'tremendous', 'trial', 'triangular', 'tribal', 'tribe', 'trick', 'tricked', 'tricks', 'tried', 'tries', 'triffled', 'trifling', 'trigger', 'triller', 'trip', 'tripped', 'trips', 'trivial', 'trnsgressions', 'trophy', 'trouble', 'troubled', 'troubles', 'troublesome', 'trousers', 'truck', 'true', 'truely', 'truffaut', 'truly', 'trust', 'trusted', 'trustful', 'trusting', 'trusts', 'truth', 'try', 'trying', 'tthe', 'tub', 'tube', 'tuberculosis', 'tubes', 'tuesday', 'tumbled', 'tumor', 'tune', 'turbulence', 'turkey', 'turku', 'turn', 'turned', 'turning', 'turns', 'tussle', 'tutor', 'tutorial', 'tutorials', 'tv', 'tvavni', 'tvprogram', 'tvvideo', 'twaddle', 'twelve', 'twelveth', 'twentieth', 'twenty', 'twice', 'twin', 'twins', 'twisted', 'twisting', 'two', 'twomonth', 'twotiming', 'twoyear', 'tyba', 'tybsc', 'type', 'typed', 'typhoid', 'typical', 'typing', 'tyre', 'tyres', 'uc', 'ucb', 'ue', 'uefa', 'ugc', 'ugly', 'uit', 'uk', 'ullevi', 'ultimate', 'ultimately', 'unable', 'unanswered', 'unappealing', 'unattractiveness', 'unavoidable', 'unaware', 'unbearable', 'unbelievable', 'unbelievably', 'uncalled', 'uncanny', 'uncertain', 'uncertainty', 'uncle', 'unclean', 'uncleaniness', 'uncles', 'unclewho', 'uncomfortable', 'uncoming', 'unconscienciously', 'unconscious', 'unconsciously', 'uncontrollably', 'uncontrolled', 'uncooperative', 'uncovered', 'undamaged', 'undangerous', 'undefeated', 'underestimated', 'undergo', 'undergone', 'undergraduate', 'underground', 'undergrounds', 'underneath', 'understand', 'understanding', 'understands', 'understood', 'undertaken', 'undertakings', 'undertook', 'underwear', 'underwent', 'undescribable', 'undeserved', 'undeservedly', 'undone', 'undress', 'undressed', 'undrinkable', 'undue', 'uneasiness', 'uneasy', 'uneatable', 'uneducated', 'unemployment', 'unescorted', 'unesthetic', 'unexpectantly', 'unexpected', 'unexpectedly', 'unexpecting', 'unexplainable', 'unexpressed', 'unfair', 'unfairly', 'unfairness', 'unfaithful', 'unfaithfully', 'unfamiliar', 'unforgettable', 'unforgiving', 'unfortunately', 'unfortunatly', 'unfounded', 'unfriendly', 'unhappy', 'unhealthy', 'uni', 'uniform', 'unimpartiality', 'unimportant', 'uninjured', 'uninteligible', 'unintenionally', 'unintentionally', 'uninteresting', 'union', 'unit', 'unite', 'united', 'unity', 'universiity', 'universities', 'university', 'universtity', 'unjust', 'unjustice', 'unjustifiably', 'unjustified', 'unjustly', 'unkind', 'unkindly', 'unknowingly', 'unknown', 'unleashed', 'unlikable', 'unlimited', 'unloaded', 'unlocked', 'unmanageable', 'unmarried', 'unmindful', 'unmotivated', 'unnecessarily', 'unnecessary', 'unnerved', 'unofficially', 'unpassed', 'unpleasant', 'unprepared', 'unpresentable', 'unreal', 'unrealized', 'unreasonable', 'unreasonably', 'unrelaible', 'unrequited', 'unrest', 'unrestrained', 'unruly', 'unsavoury', 'unscrew', 'unscrewed', 'unseen', 'unsiutable', 'unsteady', 'unsubsidized', 'unsuccessful', 'unsuitable', 'unsulted', 'unsupportive', 'unthinking', 'unthinkingly', 'unthoughtful', 'untidy', 'untidyness', 'untimely', 'untoward', 'untrue', 'unwanted', 'unwarranted', 'unwell', 'unwillingly', 'unwillingness', 'unwise', 'unwittingly', 'unworthy', 'unza', 'unzasu', 'uplift', 'upmost', 'upon', 'upper', 'uprising', 'upset', 'upsetsad', 'upstairs', 'upward', 'urgent', 'urinate', 'urinated', 'urinating', 'urine', 'urologists', 'us', 'usa', 'usally', 'usc', 'use', 'used', 'useful', 'useless', 'user', 'uses', 'using', 'usual', 'usually', 'usurped', 'utc', 'utensils', 'uth', 'utility', 'utilize', 'utrecht', 'uttar', 'utter', 'utterance', 'uttered', 'vacate', 'vacation', 'vacations', 'vague', 'vain', 'valid', 'valley', 'valorized', 'valuable', 'value', 'values', 'vampire', 'van', 'vandalistic', 'vanished', 'vanity', 'various', 'varnish', 'varsity', 'vcr', 'vehement', 'vehicle', 'veneral', 'venous', 'vented', 'ventilate', 'ventilates', 'ventilator', 'verbally', 'verbaly', 'verge', 'verging', 'verona', 'version', 'vertigo', 'vesa', 'vet', 'veterinarian', 'veterinary', 'veterinarys', 'via', 'vicar', 'vicechairman', 'viceprincipal', 'viceversa', 'vicinity', 'victim', 'victimized', 'victims', 'victoria', 'victory', 'video', 'videotape', 'vienna', 'vietnam', 'view', 'viewing', 'views', 'vigour', 'vile', 'village', 'villages', 'vindicated', 'vinegar', 'violating', 'violation', 'violence', 'violent', 'violently', 'violin', 'viper', 'virginity', 'virtually', 'virtuous', 'virus', 'visa', 'visibility', 'visible', 'vision', 'visit', 'visited', 'visiting', 'visitor', 'visitors', 'visits', 'vital', 'vitosha', 'vividly', 'vociferously', 'voice', 'volitile', 'volley', 'volleyball', 'volume', 'volumes', 'voluntarily', 'voluntary', 'volunteer', 'volunteered', 'volunteers', 'vomit', 'vomited', 'vomiting', 'vomitted', 'vomitting', 'vowed', 'vsp', 'vulgar', 'vulnerable', 'vvery', 'waist', 'wait', 'waited', 'waiting', 'waits', 'wake', 'waking', 'walk', 'walked', 'walker', 'walking', 'walkman', 'walks', 'walkway', 'wall', 'wallaby', 'wallet', 'wallowed', 'walls', 'wamkulu', 'wandered', 'wanderers', 'wandering', 'want', 'wanted', 'wanting', 'wants', 'war', 'ward', 'wardrobe', 'wardrobes', 'wards', 'warm', 'warming', 'warmth', 'warn', 'warned', 'warning', 'wars', 'wash', 'washed', 'washing', 'wasnt', 'waste', 'wasted', 'wastepaper', 'wasting', 'watch', 'watched', 'watching', 'water', 'watered', 'wather', 'wave', 'waves', 'wax', 'way', 'wayne', 'ways', 'wd', 'weak', 'weakened', 'weaker', 'weakness', 'weapon', 'wear', 'wearing', 'weary', 'weather', 'wed', 'wedding', 'wedlock', 'wednesday', 'weeded', 'weeding', 'week', 'weekend', 'weekends', 'weekly', 'weeks', 'weep', 'weeping', 'weight', 'welcome', 'welcomed', 'welfare', 'well', 'wellington', 'wellpayed', 'went', 'werent', 'west', 'westindies', 'wet', 'wetting', 'whalehunting', 'whan', 'wharf', 'whash', 'whatched', 'whatever', 'whats', 'whatsoever', 'whe', 'wheel', 'wheeled', 'wheels', 'whenever', 'whereas', 'whereby', 'whereupon', 'wherever', 'whether', 'whhen', 'whilst', 'whimsical', 'whimsy', 'whine', 'whining', 'whip', 'whipped', 'whispered', 'whispering', 'whistle', 'white', 'whiteout', 'whitesand', 'whole', 'whos', 'whose', 'whre', 'wich', 'wide', 'widow', 'wierd', 'wife', 'wifes', 'wiith', 'wild', 'wilde', 'wildest', 'wildly', 'wilfully', 'william', 'willing', 'willingly', 'win', 'wind', 'winding', 'window', 'windows', 'winds', 'windshield', 'windy', 'wine', 'wing', 'wings', 'winnebago', 'winners', 'winning', 'wino', 'winter', 'wipe', 'wiped', 'wish', 'wished', 'wishing', 'witch', 'withdraw', 'withdrawal', 'withdrawing', 'withdrawn', 'withdrew', 'withhim', 'within', 'withness', 'withold', 'without', 'witness', 'witnessed', 'witnesses', 'witty', 'wnat', 'woke', 'woken', 'woman', 'womanofficerincharge', 'women', 'womens', 'won', 'wonder', 'wondered', 'wonderful', 'wonderfull', 'wondering', 'wont', 'wood', 'wooden', 'woodlands', 'woods', 'woodwork', 'word', 'wordly', 'words', 'wore', 'work', 'worked', 'worker', 'workers', 'working', 'workmate', 'workmates', 'worknig', 'workplace', 'works', 'workshift', 'world', 'worlds', 'worm', 'worms', 'worried', 'worries', 'worry', 'worrywort', 'worse', 'worst', 'worth', 'worthwhile', 'worthy', 'would', 'wouldbe', 'wouldnt', 'wound', 'wounded', 'wounds', 'wrinkled', 'wristwatch', 'writ', 'write', 'writing', 'written', 'wrong', 'wrongly', 'wrote', 'wth', 'wurm', 'x', 'xiith', 'xmas', 'xrays', 'yanu', 'yard', 'yards', 'yastrebetz', 'yatch', 'yavanna', 'ye', 'year', 'yearrs', 'years', 'yeaterday', 'yell', 'yelled', 'yelling', 'yellow', 'yes', 'yesterday', 'yesterdays', 'yet', 'yield', 'yielding', 'york', 'young', 'younger', 'youngest', 'youngish', 'youngsters', 'youngstters', 'yournals', 'youth', 'youths', 'yr', 'yrs', 'yugoslavia', 'yukky', 'zaire', 'zalu', 'zambezi', 'zambia', 'zcbc', 'zealand', 'zealander', 'zeeland', 'zemba', 'zero', 'zesco', 'zhu', 'zigzagging', 'zipper', 'zomba', 'zone', 'zoophiliac']\n",
      "8436\n"
     ]
    }
   ],
   "source": [
    "names = count_vectorizer.get_feature_names()\n",
    "print(names)\n",
    "print(len(names))\n"
   ]
  },
  {
   "cell_type": "code",
   "execution_count": 197,
   "metadata": {},
   "outputs": [],
   "source": [
    "vecotrized = count_vectorizer.transform(X_train)"
   ]
  },
  {
   "cell_type": "code",
   "execution_count": 198,
   "metadata": {},
   "outputs": [],
   "source": [
    "tfidf_transformer = TfidfTransformer().fit(vecotrized)\n",
    "transformed = tfidf_transformer.transform(vecotrized)"
   ]
  },
  {
   "cell_type": "code",
   "execution_count": 199,
   "metadata": {},
   "outputs": [
    {
     "data": {
      "text/plain": [
       "4.487151289158847"
      ]
     },
     "execution_count": 199,
     "metadata": {},
     "output_type": "execute_result"
    }
   ],
   "source": [
    "tfidf_transformer.idf_[count_vectorizer.vocabulary_['close']]"
   ]
  },
  {
   "cell_type": "code",
   "execution_count": 200,
   "metadata": {},
   "outputs": [
    {
     "name": "stdout",
     "output_type": "stream",
     "text": [
      "  (0, 8393)\t0.382325267682\n",
      "  (0, 4934)\t0.464404434036\n",
      "  (0, 3558)\t0.337360338051\n",
      "  (0, 2543)\t0.600482092724\n",
      "  (0, 232)\t0.404679095047\n",
      "  (1, 8223)\t0.162901454255\n",
      "  (1, 8062)\t0.332541637505\n",
      "  (1, 7626)\t0.158102925714\n",
      "  (1, 7470)\t0.359904403441\n",
      "  (1, 6711)\t0.246915798766\n",
      "  (1, 6431)\t0.300529253528\n",
      "  (1, 6392)\t0.189204394746\n",
      "  (1, 6031)\t0.292607551725\n",
      "  (1, 5994)\t0.192758278517\n",
      "  (1, 4817)\t0.190264220191\n",
      "  (1, 4325)\t0.206675299079\n",
      "  (1, 4291)\t0.232053922456\n",
      "  (1, 4280)\t0.212828457585\n",
      "  (1, 3448)\t0.28601290351\n",
      "  (1, 2553)\t0.273166487593\n",
      "  (1, 1088)\t0.253001070537\n",
      "  (2, 8258)\t0.424593669073\n",
      "  (2, 6613)\t0.515616008697\n",
      "  (2, 6433)\t0.233188261264\n",
      "  (2, 4809)\t0.360606815993\n",
      "  :\t:\n",
      "  (6699, 5007)\t0.34952639569\n",
      "  (6699, 4901)\t0.328729237495\n",
      "  (6699, 4672)\t0.22185703412\n",
      "  (6699, 4520)\t0.312706882892\n",
      "  (6699, 1308)\t0.230155427289\n",
      "  (6699, 176)\t0.327047378517\n",
      "  (6700, 8117)\t0.281077110392\n",
      "  (6700, 7784)\t0.184962438171\n",
      "  (6700, 7586)\t0.218292546698\n",
      "  (6700, 5872)\t0.207878300894\n",
      "  (6700, 5858)\t0.281077110392\n",
      "  (6700, 5627)\t0.281077110392\n",
      "  (6700, 5463)\t0.281077110392\n",
      "  (6700, 4330)\t0.206784471289\n",
      "  (6700, 4265)\t0.231374831057\n",
      "  (6700, 4256)\t0.258712797565\n",
      "  (6700, 3558)\t0.128739411566\n",
      "  (6700, 2795)\t0.152174452255\n",
      "  (6700, 2391)\t0.216791583827\n",
      "  (6700, 2129)\t0.215357352899\n",
      "  (6700, 1842)\t0.29415939475\n",
      "  (6700, 1732)\t0.249430769096\n",
      "  (6700, 1485)\t0.245630513206\n",
      "  (6700, 919)\t0.151977112905\n",
      "  (6700, 243)\t0.174341425732\n"
     ]
    }
   ],
   "source": [
    "print(transformed)"
   ]
  },
  {
   "cell_type": "markdown",
   "metadata": {
    "deletable": false,
    "editable": false,
    "nbgrader": {
     "checksum": "e302446ea8c5f3f08419bf1caf9d2f46",
     "grade": false,
     "grade_id": "cell-51952699cb72ee38",
     "locked": true,
     "schema_version": 1,
     "solution": false
    }
   },
   "source": [
    "## Model Creation:\n",
    "\n",
    "Create any model you wish that classifies emotions with an accuracy > 60%. \n",
    "You can use all the data in X in the training set itself or split it.\n",
    "Save the model as model. Your model will be graded using model.predict on hidden dataset.\n",
    "<br> Since the dataset is very less, Model with accuracy >60% is enough to pass the course.\n",
    "<br> **We highly recommend you to test and use as many skills you have learned in this course and have explore further in the web.**"
   ]
  },
  {
   "cell_type": "code",
   "execution_count": 201,
   "metadata": {},
   "outputs": [],
   "source": [
    "from sklearn.naive_bayes import MultinomialNB\n",
    "\n",
    "#Creating Custom Classifier cause can't override the last cell.\n",
    "class CustomClassifier(MultinomialNB):\n",
    "\n",
    "    def __init__(self, alpha=1.0, fit_prior=True, class_prior=None, tdidf=None, count_vectorizer=None):\n",
    "        self.tfidf_transformer = tdidf\n",
    "        self.count_vectorizer = count_vectorizer\n",
    "        super().__init__(alpha, fit_prior, class_prior)\n",
    "\n",
    "    def predict(self, X):\n",
    "        \"\"\"\n",
    "        If the X is a list or Series, we'll first have to transform it into sparse matrix.\n",
    "        We are doing this because i couldn't override the last cell of this Notebook.\n",
    "        Overriding the predict function to take in a list and transform it to required type then continuing with the prediction\n",
    "        \n",
    "        \"\"\"\n",
    "        if (self.tfidf_transformer is not None and self.count_vectorizer is not None) and (type(X) is list or isinstance(X_test, pd.Series)):\n",
    "            print('X is a list or Series so first transforming it into sparse matrix...')\n",
    "            X = tfidf_transformer.transform(count_vectorizer.transform(X))\n",
    "        return super().predict(X)\n"
   ]
  },
  {
   "cell_type": "code",
   "execution_count": 202,
   "metadata": {
    "deletable": false,
    "nbgrader": {
     "checksum": "76de1319646097bd26d1bba443c8a2e6",
     "grade": false,
     "grade_id": "cell-1dd10e27aeaaf5d2",
     "locked": false,
     "schema_version": 1,
     "solution": true
    }
   },
   "outputs": [
    {
     "name": "stdout",
     "output_type": "stream",
     "text": [
      "X is a list or Series so first transforming it into sparse matrix...\n"
     ]
    }
   ],
   "source": [
    "model = CustomClassifier(tdidf=tfidf_transformer, count_vectorizer=count_vectorizer).fit(transformed, y_train)\n",
    "predictions = model.predict(X_test)"
   ]
  },
  {
   "cell_type": "code",
   "execution_count": 208,
   "metadata": {},
   "outputs": [
    {
     "data": {
      "text/plain": [
       "60.402684563758392"
      ]
     },
     "execution_count": 208,
     "metadata": {},
     "output_type": "execute_result"
    }
   ],
   "source": [
    "from sklearn.metrics import accuracy_score\n",
    "accuracy_score(y_test, predictions)*100"
   ]
  },
  {
   "cell_type": "code",
   "execution_count": 211,
   "metadata": {},
   "outputs": [
    {
     "data": {
      "text/plain": [
       "0.60402684563758391"
      ]
     },
     "execution_count": 211,
     "metadata": {},
     "output_type": "execute_result"
    }
   ],
   "source": [
    "#SHORTHAND WAY\n",
    "from sklearn.pipeline import Pipeline\n",
    "from sklearn.ensemble import RandomForestClassifier\n",
    "pipeline = Pipeline([\n",
    "    ('count_vectorizer', CountVectorizer(analyzer=preprocess_message)),\n",
    "    ('tfidf', TfidfTransformer()),\n",
    "    ('classifier', CustomClassifier())\n",
    "\t])\n",
    "pipeline.fit(X_train, y_train)\n",
    "predictions = pipeline.predict(X_test)\n",
    "accuracy_score(y_test, predictions)"
   ]
  },
  {
   "cell_type": "code",
   "execution_count": 244,
   "metadata": {},
   "outputs": [],
   "source": [
    "def sentiment_analyze(data, model):\n",
    "    data = data.split('\\n')\n",
    "    predictions = model.predict(data)\n",
    "    new_df = pd.DataFrame(data={\n",
    "        \"data\":data,\n",
    "        \"target\":predictions\n",
    "    })\n",
    "    new_df['target'].value_counts().plot(kind='bar')\n",
    "    return new_df"
   ]
  },
  {
   "cell_type": "code",
   "execution_count": 245,
   "metadata": {
    "scrolled": true
   },
   "outputs": [
    {
     "name": "stdout",
     "output_type": "stream",
     "text": [
      "X is a list or Series so first transforming it into sparse matrix...\n"
     ]
    },
    {
     "data": {
      "text/html": [
       "<div>\n",
       "<style scoped>\n",
       "    .dataframe tbody tr th:only-of-type {\n",
       "        vertical-align: middle;\n",
       "    }\n",
       "\n",
       "    .dataframe tbody tr th {\n",
       "        vertical-align: top;\n",
       "    }\n",
       "\n",
       "    .dataframe thead th {\n",
       "        text-align: right;\n",
       "    }\n",
       "</style>\n",
       "<table border=\"1\" class=\"dataframe\">\n",
       "  <thead>\n",
       "    <tr style=\"text-align: right;\">\n",
       "      <th></th>\n",
       "      <th>data</th>\n",
       "      <th>target</th>\n",
       "    </tr>\n",
       "  </thead>\n",
       "  <tbody>\n",
       "    <tr>\n",
       "      <th>0</th>\n",
       "      <td>When you try your best but you don't succeed</td>\n",
       "      <td>sadness</td>\n",
       "    </tr>\n",
       "    <tr>\n",
       "      <th>1</th>\n",
       "      <td>When you get what you want but not what you need</td>\n",
       "      <td>anger</td>\n",
       "    </tr>\n",
       "    <tr>\n",
       "      <th>2</th>\n",
       "      <td>When you feel so tired but you can't sleep</td>\n",
       "      <td>guilt</td>\n",
       "    </tr>\n",
       "    <tr>\n",
       "      <th>3</th>\n",
       "      <td>Stuck in reverse</td>\n",
       "      <td>fear</td>\n",
       "    </tr>\n",
       "    <tr>\n",
       "      <th>4</th>\n",
       "      <td>When the tears come streaming down your face</td>\n",
       "      <td>anger</td>\n",
       "    </tr>\n",
       "    <tr>\n",
       "      <th>5</th>\n",
       "      <td>'Cause you lose something you can't replace</td>\n",
       "      <td>guilt</td>\n",
       "    </tr>\n",
       "    <tr>\n",
       "      <th>6</th>\n",
       "      <td>When you love someone but it goes to waste</td>\n",
       "      <td>disgust</td>\n",
       "    </tr>\n",
       "    <tr>\n",
       "      <th>7</th>\n",
       "      <td>What could it be worse?</td>\n",
       "      <td>sadness</td>\n",
       "    </tr>\n",
       "    <tr>\n",
       "      <th>8</th>\n",
       "      <td>Lights will guide you home</td>\n",
       "      <td>fear</td>\n",
       "    </tr>\n",
       "    <tr>\n",
       "      <th>9</th>\n",
       "      <td>And ignite your bones</td>\n",
       "      <td>joy</td>\n",
       "    </tr>\n",
       "    <tr>\n",
       "      <th>10</th>\n",
       "      <td>And I will try to fix you</td>\n",
       "      <td>anger</td>\n",
       "    </tr>\n",
       "    <tr>\n",
       "      <th>11</th>\n",
       "      <td>But high up above or down below</td>\n",
       "      <td>sadness</td>\n",
       "    </tr>\n",
       "    <tr>\n",
       "      <th>12</th>\n",
       "      <td>When you are too in love to let it show</td>\n",
       "      <td>anger</td>\n",
       "    </tr>\n",
       "    <tr>\n",
       "      <th>13</th>\n",
       "      <td>Oh but if you never try you'll never know</td>\n",
       "      <td>sadness</td>\n",
       "    </tr>\n",
       "    <tr>\n",
       "      <th>14</th>\n",
       "      <td>Just what you're worth</td>\n",
       "      <td>joy</td>\n",
       "    </tr>\n",
       "    <tr>\n",
       "      <th>15</th>\n",
       "      <td>Lights will guide you home</td>\n",
       "      <td>fear</td>\n",
       "    </tr>\n",
       "    <tr>\n",
       "      <th>16</th>\n",
       "      <td>And ignite your bones</td>\n",
       "      <td>joy</td>\n",
       "    </tr>\n",
       "    <tr>\n",
       "      <th>17</th>\n",
       "      <td>And I will try to fix you</td>\n",
       "      <td>anger</td>\n",
       "    </tr>\n",
       "    <tr>\n",
       "      <th>18</th>\n",
       "      <td>Tears come streaming down your face</td>\n",
       "      <td>anger</td>\n",
       "    </tr>\n",
       "    <tr>\n",
       "      <th>19</th>\n",
       "      <td>When you lose something you cannot replace</td>\n",
       "      <td>shame</td>\n",
       "    </tr>\n",
       "    <tr>\n",
       "      <th>20</th>\n",
       "      <td>oh and tears come streaming down your face</td>\n",
       "      <td>anger</td>\n",
       "    </tr>\n",
       "    <tr>\n",
       "      <th>21</th>\n",
       "      <td>And I</td>\n",
       "      <td>joy</td>\n",
       "    </tr>\n",
       "    <tr>\n",
       "      <th>22</th>\n",
       "      <td>Tears streaming down your face</td>\n",
       "      <td>anger</td>\n",
       "    </tr>\n",
       "    <tr>\n",
       "      <th>23</th>\n",
       "      <td>I promise you I will learn from all my mistakes</td>\n",
       "      <td>anger</td>\n",
       "    </tr>\n",
       "    <tr>\n",
       "      <th>24</th>\n",
       "      <td>oh and the tears streaming down your face</td>\n",
       "      <td>anger</td>\n",
       "    </tr>\n",
       "    <tr>\n",
       "      <th>25</th>\n",
       "      <td>And I</td>\n",
       "      <td>joy</td>\n",
       "    </tr>\n",
       "    <tr>\n",
       "      <th>26</th>\n",
       "      <td>Lights will guide you home</td>\n",
       "      <td>fear</td>\n",
       "    </tr>\n",
       "    <tr>\n",
       "      <th>27</th>\n",
       "      <td>And ignite your bones</td>\n",
       "      <td>joy</td>\n",
       "    </tr>\n",
       "    <tr>\n",
       "      <th>28</th>\n",
       "      <td>And I will try to fix you</td>\n",
       "      <td>anger</td>\n",
       "    </tr>\n",
       "  </tbody>\n",
       "</table>\n",
       "</div>"
      ],
      "text/plain": [
       "                                                 data   target\n",
       "0       When you try your best but you don't succeed   sadness\n",
       "1   When you get what you want but not what you need     anger\n",
       "2         When you feel so tired but you can't sleep     guilt\n",
       "3                                    Stuck in reverse     fear\n",
       "4       When the tears come streaming down your face     anger\n",
       "5        'Cause you lose something you can't replace     guilt\n",
       "6         When you love someone but it goes to waste   disgust\n",
       "7                             What could it be worse?  sadness\n",
       "8                         Lights will guide you home      fear\n",
       "9                              And ignite your bones       joy\n",
       "10                          And I will try to fix you    anger\n",
       "11                   But high up above or down below   sadness\n",
       "12           When you are too in love to let it show     anger\n",
       "13         Oh but if you never try you'll never know   sadness\n",
       "14                             Just what you're worth      joy\n",
       "15                        Lights will guide you home      fear\n",
       "16                             And ignite your bones       joy\n",
       "17                          And I will try to fix you    anger\n",
       "18                Tears come streaming down your face    anger\n",
       "19         When you lose something you cannot replace    shame\n",
       "20         oh and tears come streaming down your face    anger\n",
       "21                                              And I      joy\n",
       "22                     Tears streaming down your face    anger\n",
       "23    I promise you I will learn from all my mistakes    anger\n",
       "24          oh and the tears streaming down your face    anger\n",
       "25                                              And I      joy\n",
       "26                        Lights will guide you home      fear\n",
       "27                             And ignite your bones       joy\n",
       "28                          And I will try to fix you    anger"
      ]
     },
     "execution_count": 245,
     "metadata": {},
     "output_type": "execute_result"
    },
    {
     "data": {
      "image/png": "[encoded data removed]",
      "text/plain": [
       "<Figure size 432x288 with 1 Axes>"
      ]
     },
     "metadata": {},
     "output_type": "display_data"
    }
   ],
   "source": [
    "#Coldplay -FIX YOU sentiment analysis\n",
    "test_X = \"\"\"When you try your best but you don't succeed \n",
    "When you get what you want but not what you need \n",
    "When you feel so tired but you can't sleep \n",
    "Stuck in reverse\n",
    "When the tears come streaming down your face \n",
    "'Cause you lose something you can't replace \n",
    "When you love someone but it goes to waste \n",
    "What could it be worse?\n",
    "Lights will guide you home \n",
    "And ignite your bones \n",
    "And I will try to fix you\n",
    "But high up above or down below \n",
    "When you are too in love to let it show \n",
    "Oh but if you never try you'll never know \n",
    "Just what you're worth\n",
    "Lights will guide you home \n",
    "And ignite your bones \n",
    "And I will try to fix you\n",
    "Tears come streaming down your face\n",
    "When you lose something you cannot replace\n",
    "oh and tears come streaming down your face\n",
    "And I\n",
    "Tears streaming down your face\n",
    "I promise you I will learn from all my mistakes\n",
    "oh and the tears streaming down your face\n",
    "And I\n",
    "Lights will guide you home \n",
    "And ignite your bones \n",
    "And I will try to fix you\"\"\"\n",
    "sentiment_analyze(test_X, model).head(100)"
   ]
  },
  {
   "cell_type": "code",
   "execution_count": 248,
   "metadata": {},
   "outputs": [
    {
     "name": "stdout",
     "output_type": "stream",
     "text": [
      "X is a list or Series so first transforming it into sparse matrix...\n"
     ]
    },
    {
     "data": {
      "text/html": [
       "<div>\n",
       "<style scoped>\n",
       "    .dataframe tbody tr th:only-of-type {\n",
       "        vertical-align: middle;\n",
       "    }\n",
       "\n",
       "    .dataframe tbody tr th {\n",
       "        vertical-align: top;\n",
       "    }\n",
       "\n",
       "    .dataframe thead th {\n",
       "        text-align: right;\n",
       "    }\n",
       "</style>\n",
       "<table border=\"1\" class=\"dataframe\">\n",
       "  <thead>\n",
       "    <tr style=\"text-align: right;\">\n",
       "      <th></th>\n",
       "      <th>data</th>\n",
       "      <th>target</th>\n",
       "    </tr>\n",
       "  </thead>\n",
       "  <tbody>\n",
       "    <tr>\n",
       "      <th>0</th>\n",
       "      <td>Is this the real life?</td>\n",
       "      <td>joy</td>\n",
       "    </tr>\n",
       "    <tr>\n",
       "      <th>1</th>\n",
       "      <td>Is this just fantasy?</td>\n",
       "      <td>joy</td>\n",
       "    </tr>\n",
       "    <tr>\n",
       "      <th>2</th>\n",
       "      <td>Caught in a landslide</td>\n",
       "      <td>shame</td>\n",
       "    </tr>\n",
       "    <tr>\n",
       "      <th>3</th>\n",
       "      <td>No escape from reality</td>\n",
       "      <td>fear</td>\n",
       "    </tr>\n",
       "    <tr>\n",
       "      <th>4</th>\n",
       "      <td>Open your eyes</td>\n",
       "      <td>fear</td>\n",
       "    </tr>\n",
       "    <tr>\n",
       "      <th>5</th>\n",
       "      <td>Look up to the skies and see</td>\n",
       "      <td>disgust</td>\n",
       "    </tr>\n",
       "    <tr>\n",
       "      <th>6</th>\n",
       "      <td>I'm just a poor boy, I need no sympathy</td>\n",
       "      <td>shame</td>\n",
       "    </tr>\n",
       "    <tr>\n",
       "      <th>7</th>\n",
       "      <td>Because I'm easy come, easy go</td>\n",
       "      <td>sadness</td>\n",
       "    </tr>\n",
       "    <tr>\n",
       "      <th>8</th>\n",
       "      <td>A little high, little low</td>\n",
       "      <td>guilt</td>\n",
       "    </tr>\n",
       "    <tr>\n",
       "      <th>9</th>\n",
       "      <td>Anyway the wind blows, doesn't really matter t...</td>\n",
       "      <td>sadness</td>\n",
       "    </tr>\n",
       "    <tr>\n",
       "      <th>10</th>\n",
       "      <td>Mama, just killed a man</td>\n",
       "      <td>disgust</td>\n",
       "    </tr>\n",
       "    <tr>\n",
       "      <th>11</th>\n",
       "      <td>Put a gun against his head</td>\n",
       "      <td>disgust</td>\n",
       "    </tr>\n",
       "    <tr>\n",
       "      <th>12</th>\n",
       "      <td>Pulled my trigger, now he's dead</td>\n",
       "      <td>fear</td>\n",
       "    </tr>\n",
       "    <tr>\n",
       "      <th>13</th>\n",
       "      <td>Mama, life had just begun</td>\n",
       "      <td>joy</td>\n",
       "    </tr>\n",
       "    <tr>\n",
       "      <th>14</th>\n",
       "      <td>But now I've gone and thrown it all away</td>\n",
       "      <td>sadness</td>\n",
       "    </tr>\n",
       "    <tr>\n",
       "      <th>15</th>\n",
       "      <td>Mama, oh oh</td>\n",
       "      <td>disgust</td>\n",
       "    </tr>\n",
       "    <tr>\n",
       "      <th>16</th>\n",
       "      <td>Didn't mean to make you cry</td>\n",
       "      <td>guilt</td>\n",
       "    </tr>\n",
       "    <tr>\n",
       "      <th>17</th>\n",
       "      <td>If I'm not back again this time tomorrow</td>\n",
       "      <td>guilt</td>\n",
       "    </tr>\n",
       "    <tr>\n",
       "      <th>18</th>\n",
       "      <td>Carry on, carry on, as if nothing really matters</td>\n",
       "      <td>anger</td>\n",
       "    </tr>\n",
       "    <tr>\n",
       "      <th>19</th>\n",
       "      <td>Too late, my time has come</td>\n",
       "      <td>fear</td>\n",
       "    </tr>\n",
       "    <tr>\n",
       "      <th>20</th>\n",
       "      <td>Sends shivers down my spine</td>\n",
       "      <td>joy</td>\n",
       "    </tr>\n",
       "    <tr>\n",
       "      <th>21</th>\n",
       "      <td>Body's aching all the time</td>\n",
       "      <td>joy</td>\n",
       "    </tr>\n",
       "    <tr>\n",
       "      <th>22</th>\n",
       "      <td>Goodbye everybody I've got to go</td>\n",
       "      <td>sadness</td>\n",
       "    </tr>\n",
       "    <tr>\n",
       "      <th>23</th>\n",
       "      <td>Gotta leave you all behind and face the truth</td>\n",
       "      <td>guilt</td>\n",
       "    </tr>\n",
       "    <tr>\n",
       "      <th>24</th>\n",
       "      <td>Mama, oh oh (anyway the wind blows)</td>\n",
       "      <td>sadness</td>\n",
       "    </tr>\n",
       "    <tr>\n",
       "      <th>25</th>\n",
       "      <td>I don't want to die</td>\n",
       "      <td>sadness</td>\n",
       "    </tr>\n",
       "    <tr>\n",
       "      <th>26</th>\n",
       "      <td>Sometimes wish I'd never been born at all</td>\n",
       "      <td>joy</td>\n",
       "    </tr>\n",
       "    <tr>\n",
       "      <th>27</th>\n",
       "      <td>I see a little silhouetto of a man</td>\n",
       "      <td>disgust</td>\n",
       "    </tr>\n",
       "    <tr>\n",
       "      <th>28</th>\n",
       "      <td>Scaramouch, Scaramouch will you do the Fandango</td>\n",
       "      <td>joy</td>\n",
       "    </tr>\n",
       "    <tr>\n",
       "      <th>29</th>\n",
       "      <td>Thunderbolt and lightning very very frightenin...</td>\n",
       "      <td>fear</td>\n",
       "    </tr>\n",
       "    <tr>\n",
       "      <th>30</th>\n",
       "      <td>Gallileo, Gallileo, Gallileo, Gallileo, Gallil...</td>\n",
       "      <td>joy</td>\n",
       "    </tr>\n",
       "    <tr>\n",
       "      <th>31</th>\n",
       "      <td>I'm just a poor boy and nobody loves me</td>\n",
       "      <td>guilt</td>\n",
       "    </tr>\n",
       "    <tr>\n",
       "      <th>32</th>\n",
       "      <td>He's just a poor boy from a poor family</td>\n",
       "      <td>sadness</td>\n",
       "    </tr>\n",
       "    <tr>\n",
       "      <th>33</th>\n",
       "      <td>Spare him his life from this monstrosity</td>\n",
       "      <td>joy</td>\n",
       "    </tr>\n",
       "    <tr>\n",
       "      <th>34</th>\n",
       "      <td>Easy come easy go will you let me go</td>\n",
       "      <td>anger</td>\n",
       "    </tr>\n",
       "    <tr>\n",
       "      <th>35</th>\n",
       "      <td>Bismillah, no we will not let you go, let him go</td>\n",
       "      <td>anger</td>\n",
       "    </tr>\n",
       "    <tr>\n",
       "      <th>36</th>\n",
       "      <td>Bismillah, we will not let you go, let him go</td>\n",
       "      <td>anger</td>\n",
       "    </tr>\n",
       "    <tr>\n",
       "      <th>37</th>\n",
       "      <td>Bismillah, we will not let you go, let me go</td>\n",
       "      <td>anger</td>\n",
       "    </tr>\n",
       "    <tr>\n",
       "      <th>38</th>\n",
       "      <td>(Will not let you go) let me go (never, never ...</td>\n",
       "      <td>anger</td>\n",
       "    </tr>\n",
       "    <tr>\n",
       "      <th>39</th>\n",
       "      <td>Oh oh no, no, no, no, no, no, no</td>\n",
       "      <td>disgust</td>\n",
       "    </tr>\n",
       "    <tr>\n",
       "      <th>40</th>\n",
       "      <td>Oh mama mia, mama mia, mama mia let me go</td>\n",
       "      <td>anger</td>\n",
       "    </tr>\n",
       "    <tr>\n",
       "      <th>41</th>\n",
       "      <td>Beelzebub has a devil put aside for me for me ...</td>\n",
       "      <td>anger</td>\n",
       "    </tr>\n",
       "    <tr>\n",
       "      <th>42</th>\n",
       "      <td>So you think you can stop me and spit in my eye</td>\n",
       "      <td>fear</td>\n",
       "    </tr>\n",
       "    <tr>\n",
       "      <th>43</th>\n",
       "      <td>So you think you can love me and leave me to die</td>\n",
       "      <td>sadness</td>\n",
       "    </tr>\n",
       "    <tr>\n",
       "      <th>44</th>\n",
       "      <td>Oh baby can't do this to me baby</td>\n",
       "      <td>sadness</td>\n",
       "    </tr>\n",
       "    <tr>\n",
       "      <th>45</th>\n",
       "      <td>Just gotta get out just gotta get right outta ...</td>\n",
       "      <td>anger</td>\n",
       "    </tr>\n",
       "    <tr>\n",
       "      <th>46</th>\n",
       "      <td>Oh oh oh yeah, oh oh yeah</td>\n",
       "      <td>disgust</td>\n",
       "    </tr>\n",
       "    <tr>\n",
       "      <th>47</th>\n",
       "      <td>Nothing really matters</td>\n",
       "      <td>anger</td>\n",
       "    </tr>\n",
       "    <tr>\n",
       "      <th>48</th>\n",
       "      <td>Anyone can see</td>\n",
       "      <td>disgust</td>\n",
       "    </tr>\n",
       "    <tr>\n",
       "      <th>49</th>\n",
       "      <td>Nothing really matters</td>\n",
       "      <td>anger</td>\n",
       "    </tr>\n",
       "    <tr>\n",
       "      <th>50</th>\n",
       "      <td>Nothing really matters to me</td>\n",
       "      <td>anger</td>\n",
       "    </tr>\n",
       "    <tr>\n",
       "      <th>51</th>\n",
       "      <td>Anyway the wind blows</td>\n",
       "      <td>fear</td>\n",
       "    </tr>\n",
       "  </tbody>\n",
       "</table>\n",
       "</div>"
      ],
      "text/plain": [
       "                                                 data   target\n",
       "0                              Is this the real life?      joy\n",
       "1                               Is this just fantasy?      joy\n",
       "2                               Caught in a landslide    shame\n",
       "3                              No escape from reality     fear\n",
       "4                                      Open your eyes     fear\n",
       "5                        Look up to the skies and see  disgust\n",
       "6             I'm just a poor boy, I need no sympathy    shame\n",
       "7                      Because I'm easy come, easy go  sadness\n",
       "8                           A little high, little low    guilt\n",
       "9   Anyway the wind blows, doesn't really matter t...  sadness\n",
       "10                            Mama, just killed a man  disgust\n",
       "11                         Put a gun against his head  disgust\n",
       "12                   Pulled my trigger, now he's dead     fear\n",
       "13                          Mama, life had just begun      joy\n",
       "14           But now I've gone and thrown it all away  sadness\n",
       "15                                       Mama, oh oh   disgust\n",
       "16                        Didn't mean to make you cry    guilt\n",
       "17           If I'm not back again this time tomorrow    guilt\n",
       "18   Carry on, carry on, as if nothing really matters    anger\n",
       "19                         Too late, my time has come     fear\n",
       "20                        Sends shivers down my spine      joy\n",
       "21                         Body's aching all the time      joy\n",
       "22                   Goodbye everybody I've got to go  sadness\n",
       "23      Gotta leave you all behind and face the truth    guilt\n",
       "24                Mama, oh oh (anyway the wind blows)  sadness\n",
       "25                                I don't want to die  sadness\n",
       "26          Sometimes wish I'd never been born at all      joy\n",
       "27                 I see a little silhouetto of a man  disgust\n",
       "28    Scaramouch, Scaramouch will you do the Fandango      joy\n",
       "29  Thunderbolt and lightning very very frightenin...     fear\n",
       "30  Gallileo, Gallileo, Gallileo, Gallileo, Gallil...      joy\n",
       "31            I'm just a poor boy and nobody loves me    guilt\n",
       "32            He's just a poor boy from a poor family  sadness\n",
       "33           Spare him his life from this monstrosity      joy\n",
       "34               Easy come easy go will you let me go    anger\n",
       "35   Bismillah, no we will not let you go, let him go    anger\n",
       "36      Bismillah, we will not let you go, let him go    anger\n",
       "37       Bismillah, we will not let you go, let me go    anger\n",
       "38  (Will not let you go) let me go (never, never ...    anger\n",
       "39                   Oh oh no, no, no, no, no, no, no  disgust\n",
       "40          Oh mama mia, mama mia, mama mia let me go    anger\n",
       "41  Beelzebub has a devil put aside for me for me ...    anger\n",
       "42    So you think you can stop me and spit in my eye     fear\n",
       "43   So you think you can love me and leave me to die  sadness\n",
       "44                   Oh baby can't do this to me baby  sadness\n",
       "45  Just gotta get out just gotta get right outta ...    anger\n",
       "46                          Oh oh oh yeah, oh oh yeah  disgust\n",
       "47                             Nothing really matters    anger\n",
       "48                                     Anyone can see  disgust\n",
       "49                            Nothing really matters     anger\n",
       "50                       Nothing really matters to me    anger\n",
       "51                              Anyway the wind blows     fear"
      ]
     },
     "execution_count": 248,
     "metadata": {},
     "output_type": "execute_result"
    },
    {
     "data": {
      "image/png": "[encoded data removed]",
      "text/plain": [
       "<Figure size 432x288 with 1 Axes>"
      ]
     },
     "metadata": {},
     "output_type": "display_data"
    }
   ],
   "source": [
    "test_X = \"\"\"Is this the real life?\n",
    "Is this just fantasy?\n",
    "Caught in a landslide\n",
    "No escape from reality\n",
    "Open your eyes\n",
    "Look up to the skies and see\n",
    "I'm just a poor boy, I need no sympathy\n",
    "Because I'm easy come, easy go\n",
    "A little high, little low\n",
    "Anyway the wind blows, doesn't really matter to me, to me\n",
    "Mama, just killed a man\n",
    "Put a gun against his head\n",
    "Pulled my trigger, now he's dead\n",
    "Mama, life had just begun\n",
    "But now I've gone and thrown it all away\n",
    "Mama, oh oh \n",
    "Didn't mean to make you cry\n",
    "If I'm not back again this time tomorrow\n",
    "Carry on, carry on, as if nothing really matters\n",
    "Too late, my time has come\n",
    "Sends shivers down my spine\n",
    "Body's aching all the time\n",
    "Goodbye everybody I've got to go\n",
    "Gotta leave you all behind and face the truth\n",
    "Mama, oh oh (anyway the wind blows)\n",
    "I don't want to die\n",
    "Sometimes wish I'd never been born at all\n",
    "I see a little silhouetto of a man\n",
    "Scaramouch, Scaramouch will you do the Fandango\n",
    "Thunderbolt and lightning very very frightening me\n",
    "Gallileo, Gallileo, Gallileo, Gallileo, Gallileo, figaro, magnifico\n",
    "I'm just a poor boy and nobody loves me\n",
    "He's just a poor boy from a poor family\n",
    "Spare him his life from this monstrosity\n",
    "Easy come easy go will you let me go\n",
    "Bismillah, no we will not let you go, let him go\n",
    "Bismillah, we will not let you go, let him go\n",
    "Bismillah, we will not let you go, let me go\n",
    "(Will not let you go) let me go (never, never let you go) let me go (never let me go)\n",
    "Oh oh no, no, no, no, no, no, no\n",
    "Oh mama mia, mama mia, mama mia let me go\n",
    "Beelzebub has a devil put aside for me for me for me\n",
    "So you think you can stop me and spit in my eye\n",
    "So you think you can love me and leave me to die\n",
    "Oh baby can't do this to me baby\n",
    "Just gotta get out just gotta get right outta here\n",
    "Oh oh oh yeah, oh oh yeah\n",
    "Nothing really matters\n",
    "Anyone can see\n",
    "Nothing really matters \n",
    "Nothing really matters to me\n",
    "Anyway the wind blows\"\"\"\n",
    "df_result = sentiment_analyze(test_X, model)\n",
    "df_result.head(100)\n"
   ]
  },
  {
   "cell_type": "code",
   "execution_count": 212,
   "metadata": {
    "deletable": false,
    "editable": false,
    "nbgrader": {
     "checksum": "c47e0de8af981cda4b2d0374e22e1b7e",
     "grade": true,
     "grade_id": "cell-4762880664504021",
     "locked": true,
     "points": 10,
     "schema_version": 1,
     "solution": false
    }
   },
   "outputs": [
    {
     "name": "stdout",
     "output_type": "stream",
     "text": [
      "X is a list or Series so first transforming it into sparse matrix...\n"
     ]
    }
   ],
   "source": [
    "test_X =[\"I just won a Million Dollar. I don't know what to do with this money.\",\n",
    "        'After seeing a horror film - Omen.  I could not sleep at night even though I closed my eyes.  The last scene of the film kept coming back to me, I seemed to hear the girls in the film  \\nshouting at the devil.  The devil did not have any expression on  \\nhis face and I thought that he would choose me.']\n",
    "test_y=['joy','fear']\n",
    "\n",
    "prediction = model.predict(test_X)\n",
    "assert(prediction[0]==test_y[0])\n",
    "assert(prediction[1]==test_y[1])"
   ]
  },
  {
   "cell_type": "markdown",
   "metadata": {
    "deletable": false,
    "editable": false,
    "nbgrader": {
     "checksum": "2fe3b3da89ad4ca6a2491fba965d23e9",
     "grade": false,
     "grade_id": "cell-f0c9aad359e3d31f",
     "locked": true,
     "schema_version": 1,
     "solution": false
    }
   },
   "source": [
    "Congratulations, you have reached the end of the Module Project"
   ]
  }
 ],
 "metadata": {
  "kernelspec": {
   "display_name": "Python 3",
   "language": "python",
   "name": "python3"
  },
  "language_info": {
   "codemirror_mode": {
    "name": "ipython",
    "version": 3
   },
   "file_extension": ".py",
   "mimetype": "text/x-python",
   "name": "python",
   "nbconvert_exporter": "python",
   "pygments_lexer": "ipython3",
   "version": "3.6.6"
  }
 },
 "nbformat": 4,
 "nbformat_minor": 2
}
